{
 "cells": [
  {
   "cell_type": "markdown",
   "id": "d5ba3d4e",
   "metadata": {},
   "source": [
    "## Introduction\n",
    "\n",
    "The purpose of this project is to compare rainfall patterns between Seattle, WA and Vancouver, Canada from 2018 to 2022.  \n",
    "We want to determine which city receives more precipitation overall and examine seasonal patterns.\n",
    "\n",
    "\n"
   ]
  },
  {
   "cell_type": "markdown",
   "id": "28753649",
   "metadata": {},
   "source": [
    "## Data Sources\n",
    "\n",
    "- **Seattle rainfall data:** [seattle_rain.csv](https://github.com/brian-fischer/DATA-5100/blob/main/weather/seattle_rain.csv)  \n",
    "- **Vancouver rainfall data:** Downloaded from [NOAA Climate Data Online](https://www.ncei.noaa.gov/cdo-web/)  \n",
    "\n",
    "These datasets include daily precipitation records. Some data cleaning is required before analysis.\n"
   ]
  },
  {
   "cell_type": "code",
   "execution_count": 496,
   "id": "e0da016d",
   "metadata": {},
   "outputs": [],
   "source": [
    "import pandas as pd\n",
    "import matplotlib.pyplot as plt\n",
    "import seaborn as sns\n",
    "\n"
   ]
  },
  {
   "cell_type": "code",
   "execution_count": 402,
   "id": "3054c9d8",
   "metadata": {},
   "outputs": [],
   "source": [
    "#load data \n",
    "seattle_df = pd.read_csv(\"../data/seattle_rain.csv\")\n",
    "vancouver_df = pd.read_csv(\"../data/vancouver_rain.csv\")\n"
   ]
  },
  {
   "cell_type": "code",
   "execution_count": null,
   "id": "87d27c70",
   "metadata": {},
   "outputs": [
    {
     "data": {
      "application/vnd.microsoft.datawrangler.viewer.v0+json": {
       "columns": [
        {
         "name": "index",
         "rawType": "int64",
         "type": "integer"
        },
        {
         "name": "date",
         "rawType": "datetime64[ns]",
         "type": "datetime"
        },
        {
         "name": "vancouver_precipitation",
         "rawType": "float64",
         "type": "float"
        }
       ],
       "ref": "75accee4-de7b-47b6-b851-cd18b3f33cbc",
       "rows": [
        [
         "0",
         "2018-01-01 00:00:00",
         "0.0"
        ],
        [
         "1",
         "2018-01-02 00:00:00",
         "0.0"
        ],
        [
         "2",
         "2018-01-03 00:00:00",
         "0.0"
        ],
        [
         "3",
         "2018-01-04 00:00:00",
         "0.0"
        ],
        [
         "4",
         "2018-01-05 00:00:00",
         "0.06"
        ]
       ],
       "shape": {
        "columns": 2,
        "rows": 5
       }
      },
      "text/html": [
       "<div>\n",
       "<style scoped>\n",
       "    .dataframe tbody tr th:only-of-type {\n",
       "        vertical-align: middle;\n",
       "    }\n",
       "\n",
       "    .dataframe tbody tr th {\n",
       "        vertical-align: top;\n",
       "    }\n",
       "\n",
       "    .dataframe thead th {\n",
       "        text-align: right;\n",
       "    }\n",
       "</style>\n",
       "<table border=\"1\" class=\"dataframe\">\n",
       "  <thead>\n",
       "    <tr style=\"text-align: right;\">\n",
       "      <th></th>\n",
       "      <th>date</th>\n",
       "      <th>vancouver_precipitation</th>\n",
       "    </tr>\n",
       "  </thead>\n",
       "  <tbody>\n",
       "    <tr>\n",
       "      <th>0</th>\n",
       "      <td>2018-01-01</td>\n",
       "      <td>0.00</td>\n",
       "    </tr>\n",
       "    <tr>\n",
       "      <th>1</th>\n",
       "      <td>2018-01-02</td>\n",
       "      <td>0.00</td>\n",
       "    </tr>\n",
       "    <tr>\n",
       "      <th>2</th>\n",
       "      <td>2018-01-03</td>\n",
       "      <td>0.00</td>\n",
       "    </tr>\n",
       "    <tr>\n",
       "      <th>3</th>\n",
       "      <td>2018-01-04</td>\n",
       "      <td>0.00</td>\n",
       "    </tr>\n",
       "    <tr>\n",
       "      <th>4</th>\n",
       "      <td>2018-01-05</td>\n",
       "      <td>0.06</td>\n",
       "    </tr>\n",
       "  </tbody>\n",
       "</table>\n",
       "</div>"
      ],
      "text/plain": [
       "        date  vancouver_precipitation\n",
       "0 2018-01-01                     0.00\n",
       "1 2018-01-02                     0.00\n",
       "2 2018-01-03                     0.00\n",
       "3 2018-01-04                     0.00\n",
       "4 2018-01-05                     0.06"
      ]
     },
     "metadata": {},
     "output_type": "display_data"
    },
    {
     "data": {
      "application/vnd.microsoft.datawrangler.viewer.v0+json": {
       "columns": [
        {
         "name": "index",
         "rawType": "int64",
         "type": "integer"
        },
        {
         "name": "date",
         "rawType": "datetime64[ns]",
         "type": "datetime"
        },
        {
         "name": "seattle_precipitation",
         "rawType": "float64",
         "type": "float"
        }
       ],
       "ref": "07cb29fa-0bd1-4011-a3eb-349ba3e07da7",
       "rows": [
        [
         "0",
         "2018-01-01 00:00:00",
         "0.0"
        ],
        [
         "1",
         "2018-01-02 00:00:00",
         "0.0"
        ],
        [
         "2",
         "2018-01-03 00:00:00",
         "0.0"
        ],
        [
         "3",
         "2018-01-04 00:00:00",
         "0.0"
        ],
        [
         "4",
         "2018-01-05 00:00:00",
         "0.25"
        ]
       ],
       "shape": {
        "columns": 2,
        "rows": 5
       }
      },
      "text/html": [
       "<div>\n",
       "<style scoped>\n",
       "    .dataframe tbody tr th:only-of-type {\n",
       "        vertical-align: middle;\n",
       "    }\n",
       "\n",
       "    .dataframe tbody tr th {\n",
       "        vertical-align: top;\n",
       "    }\n",
       "\n",
       "    .dataframe thead th {\n",
       "        text-align: right;\n",
       "    }\n",
       "</style>\n",
       "<table border=\"1\" class=\"dataframe\">\n",
       "  <thead>\n",
       "    <tr style=\"text-align: right;\">\n",
       "      <th></th>\n",
       "      <th>date</th>\n",
       "      <th>seattle_precipitation</th>\n",
       "    </tr>\n",
       "  </thead>\n",
       "  <tbody>\n",
       "    <tr>\n",
       "      <th>0</th>\n",
       "      <td>2018-01-01</td>\n",
       "      <td>0.00</td>\n",
       "    </tr>\n",
       "    <tr>\n",
       "      <th>1</th>\n",
       "      <td>2018-01-02</td>\n",
       "      <td>0.00</td>\n",
       "    </tr>\n",
       "    <tr>\n",
       "      <th>2</th>\n",
       "      <td>2018-01-03</td>\n",
       "      <td>0.00</td>\n",
       "    </tr>\n",
       "    <tr>\n",
       "      <th>3</th>\n",
       "      <td>2018-01-04</td>\n",
       "      <td>0.00</td>\n",
       "    </tr>\n",
       "    <tr>\n",
       "      <th>4</th>\n",
       "      <td>2018-01-05</td>\n",
       "      <td>0.25</td>\n",
       "    </tr>\n",
       "  </tbody>\n",
       "</table>\n",
       "</div>"
      ],
      "text/plain": [
       "        date  seattle_precipitation\n",
       "0 2018-01-01                   0.00\n",
       "1 2018-01-02                   0.00\n",
       "2 2018-01-03                   0.00\n",
       "3 2018-01-04                   0.00\n",
       "4 2018-01-05                   0.25"
      ]
     },
     "metadata": {},
     "output_type": "display_data"
    },
    {
     "name": "stdout",
     "output_type": "stream",
     "text": [
      "<class 'pandas.core.frame.DataFrame'>\n",
      "RangeIndex: 1531 entries, 0 to 1530\n",
      "Data columns (total 2 columns):\n",
      " #   Column                   Non-Null Count  Dtype         \n",
      "---  ------                   --------------  -----         \n",
      " 0   date                     1531 non-null   datetime64[ns]\n",
      " 1   vancouver_precipitation  1531 non-null   float64       \n",
      "dtypes: datetime64[ns](1), float64(1)\n",
      "memory usage: 24.1 KB\n"
     ]
    },
    {
     "data": {
      "text/plain": [
       "None"
      ]
     },
     "metadata": {},
     "output_type": "display_data"
    }
   ],
   "source": [
    "# Inspect data\n",
    "display(seattle_df.head())\n",
    "display(vancouver_df.head())\n",
    "display(seattle_df.info())\n",
    "display(vancouver_df.info())"
   ]
  },
  {
   "cell_type": "markdown",
   "id": "cc3ab0c2",
   "metadata": {},
   "source": [
    "The Seattle dataset has columns `DATE` and `PRCP` representing daily rainfall.  \n",
    "The Vancouver dataset has a similar structure. No major anomalies are observed, but some missing values exist that will be handled in the next step.\n"
   ]
  },
  {
   "cell_type": "markdown",
   "id": "211d7470",
   "metadata": {},
   "source": [
    "### Clean and Prepare data\n"
   ]
  },
  {
   "cell_type": "code",
   "execution_count": null,
   "id": "5444d827",
   "metadata": {},
   "outputs": [
    {
     "data": {
      "application/vnd.microsoft.datawrangler.viewer.v0+json": {
       "columns": [
        {
         "name": "index",
         "rawType": "int64",
         "type": "integer"
        },
        {
         "name": "date",
         "rawType": "datetime64[ns]",
         "type": "datetime"
        },
        {
         "name": "vancouver_precipitation",
         "rawType": "float64",
         "type": "float"
        }
       ],
       "ref": "eff7b7fe-a7cf-4f68-ab90-67a6aba13dfe",
       "rows": [
        [
         "0",
         "2018-01-01 00:00:00",
         "0.0"
        ],
        [
         "1",
         "2018-01-02 00:00:00",
         "0.0"
        ],
        [
         "2",
         "2018-01-03 00:00:00",
         "0.0"
        ]
       ],
       "shape": {
        "columns": 2,
        "rows": 3
       }
      },
      "text/html": [
       "<div>\n",
       "<style scoped>\n",
       "    .dataframe tbody tr th:only-of-type {\n",
       "        vertical-align: middle;\n",
       "    }\n",
       "\n",
       "    .dataframe tbody tr th {\n",
       "        vertical-align: top;\n",
       "    }\n",
       "\n",
       "    .dataframe thead th {\n",
       "        text-align: right;\n",
       "    }\n",
       "</style>\n",
       "<table border=\"1\" class=\"dataframe\">\n",
       "  <thead>\n",
       "    <tr style=\"text-align: right;\">\n",
       "      <th></th>\n",
       "      <th>date</th>\n",
       "      <th>vancouver_precipitation</th>\n",
       "    </tr>\n",
       "  </thead>\n",
       "  <tbody>\n",
       "    <tr>\n",
       "      <th>0</th>\n",
       "      <td>2018-01-01</td>\n",
       "      <td>0.0</td>\n",
       "    </tr>\n",
       "    <tr>\n",
       "      <th>1</th>\n",
       "      <td>2018-01-02</td>\n",
       "      <td>0.0</td>\n",
       "    </tr>\n",
       "    <tr>\n",
       "      <th>2</th>\n",
       "      <td>2018-01-03</td>\n",
       "      <td>0.0</td>\n",
       "    </tr>\n",
       "  </tbody>\n",
       "</table>\n",
       "</div>"
      ],
      "text/plain": [
       "        date  vancouver_precipitation\n",
       "0 2018-01-01                      0.0\n",
       "1 2018-01-02                      0.0\n",
       "2 2018-01-03                      0.0"
      ]
     },
     "execution_count": 494,
     "metadata": {},
     "output_type": "execute_result"
    }
   ],
   "source": [
    "#Rename Column for clarity\n",
    "seattle_df.rename(columns={'PRCP':'seattle_precipitation', 'DATE' : 'date'}, inplace= True)\n",
    "vancouver_df.rename(columns={'PRCP':'vancouver_precipitation','DATE': 'date'}, inplace= True)\n"
   ]
  },
  {
   "cell_type": "code",
   "execution_count": 497,
   "id": "156071ab",
   "metadata": {},
   "outputs": [],
   "source": [
    "#Convert data columns to datetime type\n",
    "seattle_df['date'] = pd.to_datetime(seattle_df['date'])\n",
    "vancouver_df['date'] = pd.to_datetime(vancouver_df['date'])\n"
   ]
  },
  {
   "cell_type": "code",
   "execution_count": 498,
   "id": "8ce64c0b",
   "metadata": {},
   "outputs": [],
   "source": [
    "# Remove duplicate rows if any\n",
    "seattle_df = seattle_df.drop_duplicates()\n",
    "vancouver_df = vancouver_df.drop_duplicates()\n",
    "\n",
    "# Filter datasets to only include dates between 2018-01-01 and 2022-12-31\n",
    "start_date = '2018-01-01'\n",
    "end_date = '2022-12-31'\n",
    "\n",
    "seattle_df = seattle_df[(seattle_df['date'] >= start_date) & (seattle_df['date'] <= end_date)]\n",
    "vancouver_df = vancouver_df[(vancouver_df['date'] >= start_date) & (vancouver_df['date'] <= end_date)]\n"
   ]
  },
  {
   "cell_type": "code",
   "execution_count": 499,
   "id": "7cdec0eb",
   "metadata": {},
   "outputs": [],
   "source": [
    "#Select only date and precipitation columns\n",
    "seattle_df = seattle_df[['date', 'seattle_precipitation']]\n",
    "vancouver_df = vancouver_df[['date', 'vancouver_precipitation']]"
   ]
  },
  {
   "cell_type": "markdown",
   "id": "39f3e7a0",
   "metadata": {},
   "source": [
    "The datasets are now consistent in format, filtered to the analysis period, and ready for merging"
   ]
  },
  {
   "cell_type": "markdown",
   "id": "6ca85c5d",
   "metadata": {},
   "source": [
    "## Merge and Reshape data"
   ]
  },
  {
   "cell_type": "code",
   "execution_count": null,
   "id": "712aaf5f",
   "metadata": {},
   "outputs": [
    {
     "data": {
      "application/vnd.microsoft.datawrangler.viewer.v0+json": {
       "columns": [
        {
         "name": "index",
         "rawType": "int64",
         "type": "integer"
        },
        {
         "name": "date",
         "rawType": "datetime64[ns]",
         "type": "datetime"
        },
        {
         "name": "seattle_precipitation",
         "rawType": "float64",
         "type": "float"
        },
        {
         "name": "vancouver_precipitation",
         "rawType": "float64",
         "type": "float"
        }
       ],
       "ref": "63665616-f052-4c03-8084-909de1ea4acb",
       "rows": [
        [
         "0",
         "2018-01-01 00:00:00",
         "0.0",
         "0.0"
        ],
        [
         "1",
         "2018-01-02 00:00:00",
         "0.0",
         "0.0"
        ],
        [
         "2",
         "2018-01-03 00:00:00",
         "0.0",
         "0.0"
        ],
        [
         "3",
         "2018-01-04 00:00:00",
         "0.0",
         "0.0"
        ],
        [
         "4",
         "2018-01-05 00:00:00",
         "0.25",
         "0.06"
        ]
       ],
       "shape": {
        "columns": 3,
        "rows": 5
       }
      },
      "text/html": [
       "<div>\n",
       "<style scoped>\n",
       "    .dataframe tbody tr th:only-of-type {\n",
       "        vertical-align: middle;\n",
       "    }\n",
       "\n",
       "    .dataframe tbody tr th {\n",
       "        vertical-align: top;\n",
       "    }\n",
       "\n",
       "    .dataframe thead th {\n",
       "        text-align: right;\n",
       "    }\n",
       "</style>\n",
       "<table border=\"1\" class=\"dataframe\">\n",
       "  <thead>\n",
       "    <tr style=\"text-align: right;\">\n",
       "      <th></th>\n",
       "      <th>date</th>\n",
       "      <th>seattle_precipitation</th>\n",
       "      <th>vancouver_precipitation</th>\n",
       "    </tr>\n",
       "  </thead>\n",
       "  <tbody>\n",
       "    <tr>\n",
       "      <th>0</th>\n",
       "      <td>2018-01-01</td>\n",
       "      <td>0.00</td>\n",
       "      <td>0.00</td>\n",
       "    </tr>\n",
       "    <tr>\n",
       "      <th>1</th>\n",
       "      <td>2018-01-02</td>\n",
       "      <td>0.00</td>\n",
       "      <td>0.00</td>\n",
       "    </tr>\n",
       "    <tr>\n",
       "      <th>2</th>\n",
       "      <td>2018-01-03</td>\n",
       "      <td>0.00</td>\n",
       "      <td>0.00</td>\n",
       "    </tr>\n",
       "    <tr>\n",
       "      <th>3</th>\n",
       "      <td>2018-01-04</td>\n",
       "      <td>0.00</td>\n",
       "      <td>0.00</td>\n",
       "    </tr>\n",
       "    <tr>\n",
       "      <th>4</th>\n",
       "      <td>2018-01-05</td>\n",
       "      <td>0.25</td>\n",
       "      <td>0.06</td>\n",
       "    </tr>\n",
       "  </tbody>\n",
       "</table>\n",
       "</div>"
      ],
      "text/plain": [
       "        date  seattle_precipitation  vancouver_precipitation\n",
       "0 2018-01-01                   0.00                     0.00\n",
       "1 2018-01-02                   0.00                     0.00\n",
       "2 2018-01-03                   0.00                     0.00\n",
       "3 2018-01-04                   0.00                     0.00\n",
       "4 2018-01-05                   0.25                     0.06"
      ]
     },
     "execution_count": 408,
     "metadata": {},
     "output_type": "execute_result"
    }
   ],
   "source": [
    "#Merge dataset\n",
    "combine_city = pd.merge(seattle_df, vancouver_df, on = 'date')\n",
    "\n",
    "#rename column \n",
    "combine_city.rename(columns={'precipition_x':'seattle_precipitation','precipition_y':'vancouver_precipitation'})\n",
    "\n",
    "\n"
   ]
  },
  {
   "cell_type": "code",
   "execution_count": null,
   "id": "07cd1a7f",
   "metadata": {},
   "outputs": [],
   "source": [
    "# Ensure that the data frame is in a tidy, or long, format.\n",
    "tidy_df = combine_city.melt(id_vars='date', \n",
    "                            value_vars=['seattle_precipitation', 'vancouver_precipitation'],\n",
    "                            var_name='city', \n",
    "                            value_name='precipitation')\n",
    "\n",
    "# Clean up city names\n",
    "tidy_df['city'] = tidy_df['city'].replace({\n",
    "    'seattle_precipitation': 'Seattle',\n",
    "    'vancouver_precipitation': 'Vancouver'\n",
    "})\n",
    "\n",
    "# Create a month column\n",
    "tidy_df['month'] = tidy_df['date'].dt.to_period('M')\n",
    "tidy_df['year'] = tidy_df['date'].dt.year\n",
    "\n"
   ]
  },
  {
   "cell_type": "markdown",
   "id": "711763d8",
   "metadata": {},
   "source": [
    "The data is now tidy with columns: date, city, precipitation, and month. This format simplifies monthly aggregation and visualization."
   ]
  },
  {
   "cell_type": "markdown",
   "id": "5776b39d",
   "metadata": {},
   "source": [
    "## Handling missing months"
   ]
  },
  {
   "cell_type": "code",
   "execution_count": null,
   "id": "18f40716",
   "metadata": {},
   "outputs": [],
   "source": [
    "\n",
    "# Group by city and month to get total monthly rainfall\n",
    "monthly_rainfall = tidy_df.groupby(['city', 'month'])['precipitation'].sum().reset_index()\n",
    "\n",
    "# Create all combinations of city and month\n",
    "all_months = pd.period_range(start=monthly_rainfall['month'].min(), end=monthly_rainfall['month'].max(), freq='M')\n",
    "cities = monthly_rainfall['city'].unique()\n",
    "all_combinations = pd.MultiIndex.from_product([cities, all_months], names=['city', 'month'])\n",
    "\n",
    "# Reindex to include missing months\n",
    "monthly_rainfall = monthly_rainfall.set_index(['city','month']).reindex(all_combinations).reset_index()\n",
    "\n",
    "\n",
    "#Fill missing precipitation values with the mean of each city\n",
    "monthly_rainfall['precipitation'] = monthly_rainfall.groupby('city')['precipitation'].transform(\n",
    "    lambda x: x.fillna(x.mean())\n",
    ")\n",
    "# rename column for clarity\n",
    "monthly_rainfall.rename(columns={'precipitation': 'monthly_total'}, inplace=True)\n",
    "\n"
   ]
  },
  {
   "cell_type": "markdown",
   "id": "a2d02df4",
   "metadata": {},
   "source": [
    "All months now have precipitation values. For example, the missing February 2018 in Seattle is replaced with the city’s average monthly precipitation."
   ]
  },
  {
   "cell_type": "markdown",
   "id": "c6bcae71",
   "metadata": {},
   "source": [
    "## Derived Variables"
   ]
  },
  {
   "cell_type": "code",
   "execution_count": 517,
   "id": "976fb659",
   "metadata": {},
   "outputs": [
    {
     "data": {
      "application/vnd.microsoft.datawrangler.viewer.v0+json": {
       "columns": [
        {
         "name": "index",
         "rawType": "int64",
         "type": "integer"
        },
        {
         "name": "city",
         "rawType": "object",
         "type": "string"
        },
        {
         "name": "month",
         "rawType": "period[M]",
         "type": "unknown"
        },
        {
         "name": "monthly_total",
         "rawType": "float64",
         "type": "float"
        },
        {
         "name": "is_rain",
         "rawType": "int64",
         "type": "integer"
        },
        {
         "name": "month_str",
         "rawType": "object",
         "type": "string"
        },
        {
         "name": "year",
         "rawType": "int64",
         "type": "integer"
        }
       ],
       "ref": "5edb161d-cb4b-4e7c-9999-3117f6f0ba05",
       "rows": [
        [
         "0",
         "Seattle",
         "2018-01",
         "1.46",
         "1",
         "2018-01",
         "2018"
        ],
        [
         "1",
         "Seattle",
         "2018-02",
         "2.9192727272727272",
         "1",
         "2018-02",
         "2018"
        ],
        [
         "2",
         "Seattle",
         "2018-03",
         "1.46",
         "1",
         "2018-03",
         "2018"
        ],
        [
         "3",
         "Seattle",
         "2018-04",
         "5.39",
         "1",
         "2018-04",
         "2018"
        ],
        [
         "4",
         "Seattle",
         "2018-05",
         "0.01",
         "1",
         "2018-05",
         "2018"
        ]
       ],
       "shape": {
        "columns": 6,
        "rows": 5
       }
      },
      "text/html": [
       "<div>\n",
       "<style scoped>\n",
       "    .dataframe tbody tr th:only-of-type {\n",
       "        vertical-align: middle;\n",
       "    }\n",
       "\n",
       "    .dataframe tbody tr th {\n",
       "        vertical-align: top;\n",
       "    }\n",
       "\n",
       "    .dataframe thead th {\n",
       "        text-align: right;\n",
       "    }\n",
       "</style>\n",
       "<table border=\"1\" class=\"dataframe\">\n",
       "  <thead>\n",
       "    <tr style=\"text-align: right;\">\n",
       "      <th></th>\n",
       "      <th>city</th>\n",
       "      <th>month</th>\n",
       "      <th>monthly_total</th>\n",
       "      <th>is_rain</th>\n",
       "      <th>month_str</th>\n",
       "      <th>year</th>\n",
       "    </tr>\n",
       "  </thead>\n",
       "  <tbody>\n",
       "    <tr>\n",
       "      <th>0</th>\n",
       "      <td>Seattle</td>\n",
       "      <td>2018-01</td>\n",
       "      <td>1.460000</td>\n",
       "      <td>1</td>\n",
       "      <td>2018-01</td>\n",
       "      <td>2018</td>\n",
       "    </tr>\n",
       "    <tr>\n",
       "      <th>1</th>\n",
       "      <td>Seattle</td>\n",
       "      <td>2018-02</td>\n",
       "      <td>2.919273</td>\n",
       "      <td>1</td>\n",
       "      <td>2018-02</td>\n",
       "      <td>2018</td>\n",
       "    </tr>\n",
       "    <tr>\n",
       "      <th>2</th>\n",
       "      <td>Seattle</td>\n",
       "      <td>2018-03</td>\n",
       "      <td>1.460000</td>\n",
       "      <td>1</td>\n",
       "      <td>2018-03</td>\n",
       "      <td>2018</td>\n",
       "    </tr>\n",
       "    <tr>\n",
       "      <th>3</th>\n",
       "      <td>Seattle</td>\n",
       "      <td>2018-04</td>\n",
       "      <td>5.390000</td>\n",
       "      <td>1</td>\n",
       "      <td>2018-04</td>\n",
       "      <td>2018</td>\n",
       "    </tr>\n",
       "    <tr>\n",
       "      <th>4</th>\n",
       "      <td>Seattle</td>\n",
       "      <td>2018-05</td>\n",
       "      <td>0.010000</td>\n",
       "      <td>1</td>\n",
       "      <td>2018-05</td>\n",
       "      <td>2018</td>\n",
       "    </tr>\n",
       "  </tbody>\n",
       "</table>\n",
       "</div>"
      ],
      "text/plain": [
       "      city    month  monthly_total  is_rain month_str  year\n",
       "0  Seattle  2018-01       1.460000        1   2018-01  2018\n",
       "1  Seattle  2018-02       2.919273        1   2018-02  2018\n",
       "2  Seattle  2018-03       1.460000        1   2018-03  2018\n",
       "3  Seattle  2018-04       5.390000        1   2018-04  2018\n",
       "4  Seattle  2018-05       0.010000        1   2018-05  2018"
      ]
     },
     "execution_count": 517,
     "metadata": {},
     "output_type": "execute_result"
    }
   ],
   "source": [
    "# Count rainy days per month\n",
    "monthly_rainfall['is_rain'] = monthly_rainfall['monthly_total'].apply(lambda x: 1 if x > 0 else 0)\n",
    "\n",
    "monthly_rainfall.head()"
   ]
  },
  {
   "cell_type": "markdown",
   "id": "8f9be219",
   "metadata": {},
   "source": [
    "We have monthly_total (total precipitation per month) and is_rain (indicator for rainy days) for each city."
   ]
  },
  {
   "cell_type": "code",
   "execution_count": 514,
   "id": "871494e6",
   "metadata": {},
   "outputs": [
    {
     "data": {
      "image/png": "[encoded data removed]",
      "text/plain": [
       "<Figure size 1200x600 with 1 Axes>"
      ]
     },
     "metadata": {},
     "output_type": "display_data"
    }
   ],
   "source": [
    "#plot monthly rainfall\n",
    "# Convert month to string for plotting\n",
    "monthly_rainfall['month_str'] = monthly_rainfall['month'].astype(str)\n",
    "\n",
    "plt.figure(figsize=(12,6))\n",
    "sns.lineplot(data=monthly_rainfall, x='month_str', y='monthly_total', hue='city')\n",
    "plt.title('Monthly Rainfall: Seattle vs Vancouver (2018-2022)')\n",
    "plt.xlabel('Month')\n",
    "plt.ylabel('Total Precipitation (inches)')\n",
    "plt.xticks(rotation=90)\n",
    "plt.show()\n",
    "\n"
   ]
  },
  {
   "cell_type": "markdown",
   "id": "bb48353c",
   "metadata": {},
   "source": [
    "* Vancouver generally has more rainy days than Seattle, especially in the late fall and winter (October–March).\n",
    "\n",
    "* Seattle’s highest rainy month is October 2021, while Vancouver peaks in October 2021.\n",
    "\n",
    "* October 2021 showed the biggest gap, with Vancouver much wetter than Seattle.\n",
    "\n",
    "* Both cities have peaks in late fall/winter (Oct–Feb) and lows in summer (Jun–Aug)."
   ]
  },
  {
   "cell_type": "code",
   "execution_count": 516,
   "id": "6ea98161",
   "metadata": {},
   "outputs": [
    {
     "data": {
      "image/png": "[encoded data removed]",
      "text/plain": [
       "<Figure size 1000x500 with 1 Axes>"
      ]
     },
     "metadata": {},
     "output_type": "display_data"
    }
   ],
   "source": [
    "# Extract year from month\n",
    "monthly_rainfall['year'] = monthly_rainfall['month'].dt.year\n",
    "\n",
    "# Aggregate yearly precipitation\n",
    "yearly_rain = monthly_rainfall.groupby(['city', 'year'])['monthly_total'].sum().reset_index()\n",
    "yearly_rain.rename(columns={'monthly_total': 'yearly_precipitation'}, inplace=True)\n",
    "\n",
    "# Bar plot\n",
    "plt.figure(figsize=(10,5))\n",
    "sns.barplot(data=yearly_rain, x='year', y='yearly_precipitation', hue='city')\n",
    "plt.title('Yearly Rainfall: Seattle vs Vancouver (2018-2022)')\n",
    "plt.xlabel('Year')\n",
    "plt.ylabel('Total Precipitation (inches)')\n",
    "plt.show()\n"
   ]
  },
  {
   "cell_type": "markdown",
   "id": "dc55aa36",
   "metadata": {},
   "source": [
    "* Over 5 years Vancouver has the highest rain and Vancouver typically adds 10-15 inches more rain than seattle each year.\n",
    "* Both cities saw a sharp increase from 2019 to 2020."
   ]
  },
  {
   "cell_type": "markdown",
   "id": "74a0fde3",
   "metadata": {},
   "source": []
  }
 ],
 "metadata": {
  "kernelspec": {
   "display_name": "base",
   "language": "python",
   "name": "python3"
  },
  "language_info": {
   "codemirror_mode": {
    "name": "ipython",
    "version": 3
   },
   "file_extension": ".py",
   "mimetype": "text/x-python",
   "name": "python",
   "nbconvert_exporter": "python",
   "pygments_lexer": "ipython3",
   "version": "3.13.5"
  }
 },
 "nbformat": 4,
 "nbformat_minor": 5
}
