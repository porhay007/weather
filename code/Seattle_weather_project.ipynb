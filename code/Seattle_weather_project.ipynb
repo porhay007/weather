{
 "cells": [
  {
   "cell_type": "markdown",
   "id": "d5ba3d4e",
   "metadata": {},
   "source": [
    "Comparing Rainfall : Seattle, WA V.S Vancouver, BC\n",
    "\n",
    "#Introduction\n",
    "\n"
   ]
  },
  {
   "cell_type": "markdown",
   "id": "306cc6d3",
   "metadata": {},
   "source": [
    "Data Source\n",
    "\n",
    "- Seattle rainfall : https://github.com/brian-fischer/DATA-5100/blob/main/weather/seattle_rain.csv\n",
    "- Vancouver rainfall : https://www.ncei.noaa.gov/cdo-web/search \n",
    "\n",
    "The datasets include daily precipitation measurements and may require cleaning and transformation before analysis."
   ]
  },
  {
   "cell_type": "code",
   "execution_count": 317,
   "id": "e0da016d",
   "metadata": {},
   "outputs": [],
   "source": [
    "#import libraries\n",
    "\n",
    "import pandas as pd\n",
    "import matplotlib as plt\n",
    "import matplotlib.pyplot as plt\n",
    "import seaborn as sns\n",
    "\n"
   ]
  },
  {
   "cell_type": "code",
   "execution_count": 329,
   "id": "3054c9d8",
   "metadata": {},
   "outputs": [],
   "source": [
    "#load data \n",
    "seattle_df = pd.read_csv(\"../data/seattle_rain.csv\")\n",
    "vancouver_df = pd.read_csv(\"../data/vancouver_rain.csv\")\n"
   ]
  },
  {
   "cell_type": "markdown",
   "id": "a65b5858",
   "metadata": {},
   "source": [
    "Inspect Data"
   ]
  },
  {
   "cell_type": "code",
   "execution_count": 319,
   "id": "87d27c70",
   "metadata": {},
   "outputs": [
    {
     "data": {
      "application/vnd.microsoft.datawrangler.viewer.v0+json": {
       "columns": [
        {
         "name": "index",
         "rawType": "int64",
         "type": "integer"
        },
        {
         "name": "STATION",
         "rawType": "object",
         "type": "string"
        },
        {
         "name": "NAME",
         "rawType": "object",
         "type": "string"
        },
        {
         "name": "DATE",
         "rawType": "object",
         "type": "string"
        },
        {
         "name": "DAPR",
         "rawType": "float64",
         "type": "float"
        },
        {
         "name": "MDPR",
         "rawType": "float64",
         "type": "float"
        },
        {
         "name": "PRCP",
         "rawType": "float64",
         "type": "float"
        },
        {
         "name": "SNOW",
         "rawType": "float64",
         "type": "float"
        },
        {
         "name": "SNWD",
         "rawType": "float64",
         "type": "float"
        }
       ],
       "ref": "734b3e3c-50cf-4249-8cc9-96f52b0c2134",
       "rows": [
        [
         "0",
         "CA1BC000039",
         "VANCOUVER 3.4 SSW, BC CA",
         "2018-01-01",
         null,
         null,
         "0.0",
         "0.0",
         null
        ],
        [
         "1",
         "CA1BC000039",
         "VANCOUVER 3.4 SSW, BC CA",
         "2018-01-02",
         null,
         null,
         "0.0",
         "0.0",
         null
        ],
        [
         "2",
         "CA1BC000039",
         "VANCOUVER 3.4 SSW, BC CA",
         "2018-01-03",
         null,
         null,
         "0.0",
         "0.0",
         null
        ],
        [
         "3",
         "CA1BC000039",
         "VANCOUVER 3.4 SSW, BC CA",
         "2018-01-04",
         null,
         null,
         "0.0",
         "0.0",
         null
        ],
        [
         "4",
         "CA1BC000039",
         "VANCOUVER 3.4 SSW, BC CA",
         "2018-01-05",
         null,
         null,
         "0.06",
         null,
         null
        ]
       ],
       "shape": {
        "columns": 8,
        "rows": 5
       }
      },
      "text/html": [
       "<div>\n",
       "<style scoped>\n",
       "    .dataframe tbody tr th:only-of-type {\n",
       "        vertical-align: middle;\n",
       "    }\n",
       "\n",
       "    .dataframe tbody tr th {\n",
       "        vertical-align: top;\n",
       "    }\n",
       "\n",
       "    .dataframe thead th {\n",
       "        text-align: right;\n",
       "    }\n",
       "</style>\n",
       "<table border=\"1\" class=\"dataframe\">\n",
       "  <thead>\n",
       "    <tr style=\"text-align: right;\">\n",
       "      <th></th>\n",
       "      <th>STATION</th>\n",
       "      <th>NAME</th>\n",
       "      <th>DATE</th>\n",
       "      <th>DAPR</th>\n",
       "      <th>MDPR</th>\n",
       "      <th>PRCP</th>\n",
       "      <th>SNOW</th>\n",
       "      <th>SNWD</th>\n",
       "    </tr>\n",
       "  </thead>\n",
       "  <tbody>\n",
       "    <tr>\n",
       "      <th>0</th>\n",
       "      <td>CA1BC000039</td>\n",
       "      <td>VANCOUVER 3.4 SSW, BC CA</td>\n",
       "      <td>2018-01-01</td>\n",
       "      <td>NaN</td>\n",
       "      <td>NaN</td>\n",
       "      <td>0.00</td>\n",
       "      <td>0.0</td>\n",
       "      <td>NaN</td>\n",
       "    </tr>\n",
       "    <tr>\n",
       "      <th>1</th>\n",
       "      <td>CA1BC000039</td>\n",
       "      <td>VANCOUVER 3.4 SSW, BC CA</td>\n",
       "      <td>2018-01-02</td>\n",
       "      <td>NaN</td>\n",
       "      <td>NaN</td>\n",
       "      <td>0.00</td>\n",
       "      <td>0.0</td>\n",
       "      <td>NaN</td>\n",
       "    </tr>\n",
       "    <tr>\n",
       "      <th>2</th>\n",
       "      <td>CA1BC000039</td>\n",
       "      <td>VANCOUVER 3.4 SSW, BC CA</td>\n",
       "      <td>2018-01-03</td>\n",
       "      <td>NaN</td>\n",
       "      <td>NaN</td>\n",
       "      <td>0.00</td>\n",
       "      <td>0.0</td>\n",
       "      <td>NaN</td>\n",
       "    </tr>\n",
       "    <tr>\n",
       "      <th>3</th>\n",
       "      <td>CA1BC000039</td>\n",
       "      <td>VANCOUVER 3.4 SSW, BC CA</td>\n",
       "      <td>2018-01-04</td>\n",
       "      <td>NaN</td>\n",
       "      <td>NaN</td>\n",
       "      <td>0.00</td>\n",
       "      <td>0.0</td>\n",
       "      <td>NaN</td>\n",
       "    </tr>\n",
       "    <tr>\n",
       "      <th>4</th>\n",
       "      <td>CA1BC000039</td>\n",
       "      <td>VANCOUVER 3.4 SSW, BC CA</td>\n",
       "      <td>2018-01-05</td>\n",
       "      <td>NaN</td>\n",
       "      <td>NaN</td>\n",
       "      <td>0.06</td>\n",
       "      <td>NaN</td>\n",
       "      <td>NaN</td>\n",
       "    </tr>\n",
       "  </tbody>\n",
       "</table>\n",
       "</div>"
      ],
      "text/plain": [
       "       STATION                      NAME        DATE  DAPR  MDPR  PRCP  SNOW  \\\n",
       "0  CA1BC000039  VANCOUVER 3.4 SSW, BC CA  2018-01-01   NaN   NaN  0.00   0.0   \n",
       "1  CA1BC000039  VANCOUVER 3.4 SSW, BC CA  2018-01-02   NaN   NaN  0.00   0.0   \n",
       "2  CA1BC000039  VANCOUVER 3.4 SSW, BC CA  2018-01-03   NaN   NaN  0.00   0.0   \n",
       "3  CA1BC000039  VANCOUVER 3.4 SSW, BC CA  2018-01-04   NaN   NaN  0.00   0.0   \n",
       "4  CA1BC000039  VANCOUVER 3.4 SSW, BC CA  2018-01-05   NaN   NaN  0.06   NaN   \n",
       "\n",
       "   SNWD  \n",
       "0   NaN  \n",
       "1   NaN  \n",
       "2   NaN  \n",
       "3   NaN  \n",
       "4   NaN  "
      ]
     },
     "metadata": {},
     "output_type": "display_data"
    },
    {
     "name": "stdout",
     "output_type": "stream",
     "text": [
      "<class 'pandas.core.frame.DataFrame'>\n",
      "RangeIndex: 1531 entries, 0 to 1530\n",
      "Data columns (total 8 columns):\n",
      " #   Column   Non-Null Count  Dtype  \n",
      "---  ------   --------------  -----  \n",
      " 0   STATION  1531 non-null   object \n",
      " 1   NAME     1531 non-null   object \n",
      " 2   DATE     1531 non-null   object \n",
      " 3   DAPR     30 non-null     float64\n",
      " 4   MDPR     30 non-null     float64\n",
      " 5   PRCP     1501 non-null   float64\n",
      " 6   SNOW     701 non-null    float64\n",
      " 7   SNWD     26 non-null     float64\n",
      "dtypes: float64(5), object(3)\n",
      "memory usage: 95.8+ KB\n"
     ]
    },
    {
     "data": {
      "text/plain": [
       "None"
      ]
     },
     "metadata": {},
     "output_type": "display_data"
    }
   ],
   "source": [
    "\n",
    "display(vancouver_df.head(5))\n",
    "display(vancouver_df.info())"
   ]
  },
  {
   "cell_type": "markdown",
   "id": "56ac1c92",
   "metadata": {},
   "source": [
    "Rename Column   "
   ]
  },
  {
   "cell_type": "code",
   "execution_count": 334,
   "id": "5444d827",
   "metadata": {},
   "outputs": [
    {
     "data": {
      "application/vnd.microsoft.datawrangler.viewer.v0+json": {
       "columns": [
        {
         "name": "index",
         "rawType": "int64",
         "type": "integer"
        },
        {
         "name": "STATION",
         "rawType": "object",
         "type": "string"
        },
        {
         "name": "NAME",
         "rawType": "object",
         "type": "string"
        },
        {
         "name": "date",
         "rawType": "object",
         "type": "string"
        },
        {
         "name": "DAPR",
         "rawType": "float64",
         "type": "float"
        },
        {
         "name": "MDPR",
         "rawType": "float64",
         "type": "float"
        },
        {
         "name": "vancouver_precipitation",
         "rawType": "float64",
         "type": "float"
        },
        {
         "name": "SNOW",
         "rawType": "float64",
         "type": "float"
        },
        {
         "name": "SNWD",
         "rawType": "float64",
         "type": "float"
        }
       ],
       "ref": "77eb8b75-d5c6-4dd3-a190-99da8c7814cc",
       "rows": [
        [
         "0",
         "CA1BC000039",
         "VANCOUVER 3.4 SSW, BC CA",
         "2018-01-01",
         "0.0",
         "0.0",
         "0.0",
         "0.0",
         "0.0"
        ],
        [
         "1",
         "CA1BC000039",
         "VANCOUVER 3.4 SSW, BC CA",
         "2018-01-02",
         "0.0",
         "0.0",
         "0.0",
         "0.0",
         "0.0"
        ],
        [
         "2",
         "CA1BC000039",
         "VANCOUVER 3.4 SSW, BC CA",
         "2018-01-03",
         "0.0",
         "0.0",
         "0.0",
         "0.0",
         "0.0"
        ]
       ],
       "shape": {
        "columns": 8,
        "rows": 3
       }
      },
      "text/html": [
       "<div>\n",
       "<style scoped>\n",
       "    .dataframe tbody tr th:only-of-type {\n",
       "        vertical-align: middle;\n",
       "    }\n",
       "\n",
       "    .dataframe tbody tr th {\n",
       "        vertical-align: top;\n",
       "    }\n",
       "\n",
       "    .dataframe thead th {\n",
       "        text-align: right;\n",
       "    }\n",
       "</style>\n",
       "<table border=\"1\" class=\"dataframe\">\n",
       "  <thead>\n",
       "    <tr style=\"text-align: right;\">\n",
       "      <th></th>\n",
       "      <th>STATION</th>\n",
       "      <th>NAME</th>\n",
       "      <th>date</th>\n",
       "      <th>DAPR</th>\n",
       "      <th>MDPR</th>\n",
       "      <th>vancouver_precipitation</th>\n",
       "      <th>SNOW</th>\n",
       "      <th>SNWD</th>\n",
       "    </tr>\n",
       "  </thead>\n",
       "  <tbody>\n",
       "    <tr>\n",
       "      <th>0</th>\n",
       "      <td>CA1BC000039</td>\n",
       "      <td>VANCOUVER 3.4 SSW, BC CA</td>\n",
       "      <td>2018-01-01</td>\n",
       "      <td>0.0</td>\n",
       "      <td>0.0</td>\n",
       "      <td>0.0</td>\n",
       "      <td>0.0</td>\n",
       "      <td>0.0</td>\n",
       "    </tr>\n",
       "    <tr>\n",
       "      <th>1</th>\n",
       "      <td>CA1BC000039</td>\n",
       "      <td>VANCOUVER 3.4 SSW, BC CA</td>\n",
       "      <td>2018-01-02</td>\n",
       "      <td>0.0</td>\n",
       "      <td>0.0</td>\n",
       "      <td>0.0</td>\n",
       "      <td>0.0</td>\n",
       "      <td>0.0</td>\n",
       "    </tr>\n",
       "    <tr>\n",
       "      <th>2</th>\n",
       "      <td>CA1BC000039</td>\n",
       "      <td>VANCOUVER 3.4 SSW, BC CA</td>\n",
       "      <td>2018-01-03</td>\n",
       "      <td>0.0</td>\n",
       "      <td>0.0</td>\n",
       "      <td>0.0</td>\n",
       "      <td>0.0</td>\n",
       "      <td>0.0</td>\n",
       "    </tr>\n",
       "  </tbody>\n",
       "</table>\n",
       "</div>"
      ],
      "text/plain": [
       "       STATION                      NAME        date  DAPR  MDPR  \\\n",
       "0  CA1BC000039  VANCOUVER 3.4 SSW, BC CA  2018-01-01   0.0   0.0   \n",
       "1  CA1BC000039  VANCOUVER 3.4 SSW, BC CA  2018-01-02   0.0   0.0   \n",
       "2  CA1BC000039  VANCOUVER 3.4 SSW, BC CA  2018-01-03   0.0   0.0   \n",
       "\n",
       "   vancouver_precipitation  SNOW  SNWD  \n",
       "0                      0.0   0.0   0.0  \n",
       "1                      0.0   0.0   0.0  \n",
       "2                      0.0   0.0   0.0  "
      ]
     },
     "execution_count": 334,
     "metadata": {},
     "output_type": "execute_result"
    }
   ],
   "source": [
    "seattle_df.rename(columns={'PRCP':'seattle_precipitation', 'DATE' : 'date'}, inplace= True)\n",
    "vancouver_df.rename(columns={'PRCP':'vancouver_precipitation','DATE': 'date'}, inplace= True)\n",
    "\n",
    "\n",
    "vancouver_df.head(3)"
   ]
  },
  {
   "cell_type": "markdown",
   "id": "2f5569df",
   "metadata": {},
   "source": [
    "Convert Date"
   ]
  },
  {
   "cell_type": "code",
   "execution_count": 335,
   "id": "156071ab",
   "metadata": {},
   "outputs": [
    {
     "name": "stderr",
     "output_type": "stream",
     "text": [
      "/var/folders/wx/0m6_v4n9285892l822ksy8740000gn/T/ipykernel_22299/1866814333.py:1: UserWarning: Could not infer format, so each element will be parsed individually, falling back to `dateutil`. To ensure parsing is consistent and as-expected, please specify a format.\n",
      "  seattle_df['date'] = pd.to_datetime(seattle_df['date'])\n"
     ]
    },
    {
     "data": {
      "application/vnd.microsoft.datawrangler.viewer.v0+json": {
       "columns": [
        {
         "name": "index",
         "rawType": "int64",
         "type": "integer"
        },
        {
         "name": "STATION",
         "rawType": "object",
         "type": "string"
        },
        {
         "name": "NAME",
         "rawType": "object",
         "type": "string"
        },
        {
         "name": "date",
         "rawType": "datetime64[ns]",
         "type": "datetime"
        },
        {
         "name": "DAPR",
         "rawType": "float64",
         "type": "float"
        },
        {
         "name": "MDPR",
         "rawType": "float64",
         "type": "float"
        },
        {
         "name": "vancouver_precipitation",
         "rawType": "float64",
         "type": "float"
        },
        {
         "name": "SNOW",
         "rawType": "float64",
         "type": "float"
        },
        {
         "name": "SNWD",
         "rawType": "float64",
         "type": "float"
        }
       ],
       "ref": "dbdeea29-1ef6-4938-adfc-4f97d8627aab",
       "rows": [
        [
         "0",
         "CA1BC000039",
         "VANCOUVER 3.4 SSW, BC CA",
         "2018-01-01 00:00:00",
         "0.0",
         "0.0",
         "0.0",
         "0.0",
         "0.0"
        ],
        [
         "1",
         "CA1BC000039",
         "VANCOUVER 3.4 SSW, BC CA",
         "2018-01-02 00:00:00",
         "0.0",
         "0.0",
         "0.0",
         "0.0",
         "0.0"
        ],
        [
         "2",
         "CA1BC000039",
         "VANCOUVER 3.4 SSW, BC CA",
         "2018-01-03 00:00:00",
         "0.0",
         "0.0",
         "0.0",
         "0.0",
         "0.0"
        ],
        [
         "3",
         "CA1BC000039",
         "VANCOUVER 3.4 SSW, BC CA",
         "2018-01-04 00:00:00",
         "0.0",
         "0.0",
         "0.0",
         "0.0",
         "0.0"
        ],
        [
         "4",
         "CA1BC000039",
         "VANCOUVER 3.4 SSW, BC CA",
         "2018-01-05 00:00:00",
         "0.0",
         "0.0",
         "0.06",
         "0.0",
         "0.0"
        ]
       ],
       "shape": {
        "columns": 8,
        "rows": 5
       }
      },
      "text/html": [
       "<div>\n",
       "<style scoped>\n",
       "    .dataframe tbody tr th:only-of-type {\n",
       "        vertical-align: middle;\n",
       "    }\n",
       "\n",
       "    .dataframe tbody tr th {\n",
       "        vertical-align: top;\n",
       "    }\n",
       "\n",
       "    .dataframe thead th {\n",
       "        text-align: right;\n",
       "    }\n",
       "</style>\n",
       "<table border=\"1\" class=\"dataframe\">\n",
       "  <thead>\n",
       "    <tr style=\"text-align: right;\">\n",
       "      <th></th>\n",
       "      <th>STATION</th>\n",
       "      <th>NAME</th>\n",
       "      <th>date</th>\n",
       "      <th>DAPR</th>\n",
       "      <th>MDPR</th>\n",
       "      <th>vancouver_precipitation</th>\n",
       "      <th>SNOW</th>\n",
       "      <th>SNWD</th>\n",
       "    </tr>\n",
       "  </thead>\n",
       "  <tbody>\n",
       "    <tr>\n",
       "      <th>0</th>\n",
       "      <td>CA1BC000039</td>\n",
       "      <td>VANCOUVER 3.4 SSW, BC CA</td>\n",
       "      <td>2018-01-01</td>\n",
       "      <td>0.0</td>\n",
       "      <td>0.0</td>\n",
       "      <td>0.00</td>\n",
       "      <td>0.0</td>\n",
       "      <td>0.0</td>\n",
       "    </tr>\n",
       "    <tr>\n",
       "      <th>1</th>\n",
       "      <td>CA1BC000039</td>\n",
       "      <td>VANCOUVER 3.4 SSW, BC CA</td>\n",
       "      <td>2018-01-02</td>\n",
       "      <td>0.0</td>\n",
       "      <td>0.0</td>\n",
       "      <td>0.00</td>\n",
       "      <td>0.0</td>\n",
       "      <td>0.0</td>\n",
       "    </tr>\n",
       "    <tr>\n",
       "      <th>2</th>\n",
       "      <td>CA1BC000039</td>\n",
       "      <td>VANCOUVER 3.4 SSW, BC CA</td>\n",
       "      <td>2018-01-03</td>\n",
       "      <td>0.0</td>\n",
       "      <td>0.0</td>\n",
       "      <td>0.00</td>\n",
       "      <td>0.0</td>\n",
       "      <td>0.0</td>\n",
       "    </tr>\n",
       "    <tr>\n",
       "      <th>3</th>\n",
       "      <td>CA1BC000039</td>\n",
       "      <td>VANCOUVER 3.4 SSW, BC CA</td>\n",
       "      <td>2018-01-04</td>\n",
       "      <td>0.0</td>\n",
       "      <td>0.0</td>\n",
       "      <td>0.00</td>\n",
       "      <td>0.0</td>\n",
       "      <td>0.0</td>\n",
       "    </tr>\n",
       "    <tr>\n",
       "      <th>4</th>\n",
       "      <td>CA1BC000039</td>\n",
       "      <td>VANCOUVER 3.4 SSW, BC CA</td>\n",
       "      <td>2018-01-05</td>\n",
       "      <td>0.0</td>\n",
       "      <td>0.0</td>\n",
       "      <td>0.06</td>\n",
       "      <td>0.0</td>\n",
       "      <td>0.0</td>\n",
       "    </tr>\n",
       "  </tbody>\n",
       "</table>\n",
       "</div>"
      ],
      "text/plain": [
       "       STATION                      NAME       date  DAPR  MDPR  \\\n",
       "0  CA1BC000039  VANCOUVER 3.4 SSW, BC CA 2018-01-01   0.0   0.0   \n",
       "1  CA1BC000039  VANCOUVER 3.4 SSW, BC CA 2018-01-02   0.0   0.0   \n",
       "2  CA1BC000039  VANCOUVER 3.4 SSW, BC CA 2018-01-03   0.0   0.0   \n",
       "3  CA1BC000039  VANCOUVER 3.4 SSW, BC CA 2018-01-04   0.0   0.0   \n",
       "4  CA1BC000039  VANCOUVER 3.4 SSW, BC CA 2018-01-05   0.0   0.0   \n",
       "\n",
       "   vancouver_precipitation  SNOW  SNWD  \n",
       "0                     0.00   0.0   0.0  \n",
       "1                     0.00   0.0   0.0  \n",
       "2                     0.00   0.0   0.0  \n",
       "3                     0.00   0.0   0.0  \n",
       "4                     0.06   0.0   0.0  "
      ]
     },
     "metadata": {},
     "output_type": "display_data"
    }
   ],
   "source": [
    "seattle_df['date'] = pd.to_datetime(seattle_df['date'])\n",
    "vancouver_df['date'] = pd.to_datetime(vancouver_df['date'])\n",
    "\n",
    "\n",
    "\n",
    "display(vancouver_df.head(5))"
   ]
  },
  {
   "cell_type": "markdown",
   "id": "f1011fdf",
   "metadata": {},
   "source": [
    "Replace NAN value to Zero"
   ]
  },
  {
   "cell_type": "code",
   "execution_count": 336,
   "id": "8ce64c0b",
   "metadata": {},
   "outputs": [
    {
     "data": {
      "application/vnd.microsoft.datawrangler.viewer.v0+json": {
       "columns": [
        {
         "name": "index",
         "rawType": "int64",
         "type": "integer"
        },
        {
         "name": "STATION",
         "rawType": "object",
         "type": "string"
        },
        {
         "name": "NAME",
         "rawType": "object",
         "type": "string"
        },
        {
         "name": "date",
         "rawType": "datetime64[ns]",
         "type": "datetime"
        },
        {
         "name": "DAPR",
         "rawType": "float64",
         "type": "float"
        },
        {
         "name": "MDPR",
         "rawType": "float64",
         "type": "float"
        },
        {
         "name": "vancouver_precipitation",
         "rawType": "float64",
         "type": "float"
        },
        {
         "name": "SNOW",
         "rawType": "float64",
         "type": "float"
        },
        {
         "name": "SNWD",
         "rawType": "float64",
         "type": "float"
        }
       ],
       "ref": "7ef42da5-aa79-42ef-bfd0-82d745878066",
       "rows": [
        [
         "0",
         "CA1BC000039",
         "VANCOUVER 3.4 SSW, BC CA",
         "2018-01-01 00:00:00",
         "0.0",
         "0.0",
         "0.0",
         "0.0",
         "0.0"
        ],
        [
         "1",
         "CA1BC000039",
         "VANCOUVER 3.4 SSW, BC CA",
         "2018-01-02 00:00:00",
         "0.0",
         "0.0",
         "0.0",
         "0.0",
         "0.0"
        ],
        [
         "2",
         "CA1BC000039",
         "VANCOUVER 3.4 SSW, BC CA",
         "2018-01-03 00:00:00",
         "0.0",
         "0.0",
         "0.0",
         "0.0",
         "0.0"
        ],
        [
         "3",
         "CA1BC000039",
         "VANCOUVER 3.4 SSW, BC CA",
         "2018-01-04 00:00:00",
         "0.0",
         "0.0",
         "0.0",
         "0.0",
         "0.0"
        ],
        [
         "4",
         "CA1BC000039",
         "VANCOUVER 3.4 SSW, BC CA",
         "2018-01-05 00:00:00",
         "0.0",
         "0.0",
         "0.06",
         "0.0",
         "0.0"
        ]
       ],
       "shape": {
        "columns": 8,
        "rows": 5
       }
      },
      "text/html": [
       "<div>\n",
       "<style scoped>\n",
       "    .dataframe tbody tr th:only-of-type {\n",
       "        vertical-align: middle;\n",
       "    }\n",
       "\n",
       "    .dataframe tbody tr th {\n",
       "        vertical-align: top;\n",
       "    }\n",
       "\n",
       "    .dataframe thead th {\n",
       "        text-align: right;\n",
       "    }\n",
       "</style>\n",
       "<table border=\"1\" class=\"dataframe\">\n",
       "  <thead>\n",
       "    <tr style=\"text-align: right;\">\n",
       "      <th></th>\n",
       "      <th>STATION</th>\n",
       "      <th>NAME</th>\n",
       "      <th>date</th>\n",
       "      <th>DAPR</th>\n",
       "      <th>MDPR</th>\n",
       "      <th>vancouver_precipitation</th>\n",
       "      <th>SNOW</th>\n",
       "      <th>SNWD</th>\n",
       "    </tr>\n",
       "  </thead>\n",
       "  <tbody>\n",
       "    <tr>\n",
       "      <th>0</th>\n",
       "      <td>CA1BC000039</td>\n",
       "      <td>VANCOUVER 3.4 SSW, BC CA</td>\n",
       "      <td>2018-01-01</td>\n",
       "      <td>0.0</td>\n",
       "      <td>0.0</td>\n",
       "      <td>0.00</td>\n",
       "      <td>0.0</td>\n",
       "      <td>0.0</td>\n",
       "    </tr>\n",
       "    <tr>\n",
       "      <th>1</th>\n",
       "      <td>CA1BC000039</td>\n",
       "      <td>VANCOUVER 3.4 SSW, BC CA</td>\n",
       "      <td>2018-01-02</td>\n",
       "      <td>0.0</td>\n",
       "      <td>0.0</td>\n",
       "      <td>0.00</td>\n",
       "      <td>0.0</td>\n",
       "      <td>0.0</td>\n",
       "    </tr>\n",
       "    <tr>\n",
       "      <th>2</th>\n",
       "      <td>CA1BC000039</td>\n",
       "      <td>VANCOUVER 3.4 SSW, BC CA</td>\n",
       "      <td>2018-01-03</td>\n",
       "      <td>0.0</td>\n",
       "      <td>0.0</td>\n",
       "      <td>0.00</td>\n",
       "      <td>0.0</td>\n",
       "      <td>0.0</td>\n",
       "    </tr>\n",
       "    <tr>\n",
       "      <th>3</th>\n",
       "      <td>CA1BC000039</td>\n",
       "      <td>VANCOUVER 3.4 SSW, BC CA</td>\n",
       "      <td>2018-01-04</td>\n",
       "      <td>0.0</td>\n",
       "      <td>0.0</td>\n",
       "      <td>0.00</td>\n",
       "      <td>0.0</td>\n",
       "      <td>0.0</td>\n",
       "    </tr>\n",
       "    <tr>\n",
       "      <th>4</th>\n",
       "      <td>CA1BC000039</td>\n",
       "      <td>VANCOUVER 3.4 SSW, BC CA</td>\n",
       "      <td>2018-01-05</td>\n",
       "      <td>0.0</td>\n",
       "      <td>0.0</td>\n",
       "      <td>0.06</td>\n",
       "      <td>0.0</td>\n",
       "      <td>0.0</td>\n",
       "    </tr>\n",
       "  </tbody>\n",
       "</table>\n",
       "</div>"
      ],
      "text/plain": [
       "       STATION                      NAME       date  DAPR  MDPR  \\\n",
       "0  CA1BC000039  VANCOUVER 3.4 SSW, BC CA 2018-01-01   0.0   0.0   \n",
       "1  CA1BC000039  VANCOUVER 3.4 SSW, BC CA 2018-01-02   0.0   0.0   \n",
       "2  CA1BC000039  VANCOUVER 3.4 SSW, BC CA 2018-01-03   0.0   0.0   \n",
       "3  CA1BC000039  VANCOUVER 3.4 SSW, BC CA 2018-01-04   0.0   0.0   \n",
       "4  CA1BC000039  VANCOUVER 3.4 SSW, BC CA 2018-01-05   0.0   0.0   \n",
       "\n",
       "   vancouver_precipitation  SNOW  SNWD  \n",
       "0                     0.00   0.0   0.0  \n",
       "1                     0.00   0.0   0.0  \n",
       "2                     0.00   0.0   0.0  \n",
       "3                     0.00   0.0   0.0  \n",
       "4                     0.06   0.0   0.0  "
      ]
     },
     "metadata": {},
     "output_type": "display_data"
    },
    {
     "name": "stdout",
     "output_type": "stream",
     "text": [
      "<class 'pandas.core.frame.DataFrame'>\n",
      "RangeIndex: 1658 entries, 0 to 1657\n",
      "Data columns (total 10 columns):\n",
      " #   Column                 Non-Null Count  Dtype         \n",
      "---  ------                 --------------  -----         \n",
      " 0   STATION                1658 non-null   object        \n",
      " 1   NAME                   1658 non-null   object        \n",
      " 2   date                   1658 non-null   datetime64[ns]\n",
      " 3   DAPR                   1658 non-null   float64       \n",
      " 4   MDPR                   1658 non-null   float64       \n",
      " 5   seattle_precipitation  1658 non-null   float64       \n",
      " 6   SNOW                   1658 non-null   float64       \n",
      " 7   SNWD                   1658 non-null   float64       \n",
      " 8   WESD                   1658 non-null   float64       \n",
      " 9   WESF                   1658 non-null   float64       \n",
      "dtypes: datetime64[ns](1), float64(7), object(2)\n",
      "memory usage: 129.7+ KB\n"
     ]
    },
    {
     "data": {
      "text/plain": [
       "None"
      ]
     },
     "metadata": {},
     "output_type": "display_data"
    }
   ],
   "source": [
    "#vancouver_df.dropna(inplace=True)\n",
    "\n",
    "vancouver_df = vancouver_df.fillna(0)\n",
    "seattle_df = seattle_df.fillna(0)\n",
    "\n",
    "display(vancouver_df.head(5))\n",
    "display(seattle_df.info(5))\n",
    "\n",
    "\n"
   ]
  },
  {
   "cell_type": "markdown",
   "id": "af8a66ab",
   "metadata": {},
   "source": [
    "Select Only Date and Precipitation"
   ]
  },
  {
   "cell_type": "code",
   "execution_count": 337,
   "id": "7cdec0eb",
   "metadata": {},
   "outputs": [],
   "source": [
    "seattle_df = seattle_df[['date', 'seattle_precipitation']]\n",
    "vancouver_df = vancouver_df[['date', 'vancouver_precipitation']]"
   ]
  },
  {
   "cell_type": "markdown",
   "id": "487aa5e1",
   "metadata": {},
   "source": [
    "Merge Datasets on date"
   ]
  },
  {
   "cell_type": "code",
   "execution_count": 364,
   "id": "712aaf5f",
   "metadata": {},
   "outputs": [
    {
     "data": {
      "application/vnd.microsoft.datawrangler.viewer.v0+json": {
       "columns": [
        {
         "name": "index",
         "rawType": "int64",
         "type": "integer"
        },
        {
         "name": "date",
         "rawType": "datetime64[ns]",
         "type": "datetime"
        },
        {
         "name": "seattle_precipitation",
         "rawType": "float64",
         "type": "float"
        },
        {
         "name": "vancouver_precipitation",
         "rawType": "float64",
         "type": "float"
        }
       ],
       "ref": "40fc3b7b-3a8b-4aea-9273-dfb8152a4776",
       "rows": [
        [
         "0",
         "2018-01-01 00:00:00",
         "0.0",
         "0.0"
        ],
        [
         "1",
         "2018-01-02 00:00:00",
         "0.0",
         "0.0"
        ],
        [
         "2",
         "2018-01-03 00:00:00",
         "0.0",
         "0.0"
        ],
        [
         "3",
         "2018-01-04 00:00:00",
         "0.0",
         "0.0"
        ],
        [
         "4",
         "2018-01-05 00:00:00",
         "0.25",
         "0.06"
        ]
       ],
       "shape": {
        "columns": 3,
        "rows": 5
       }
      },
      "text/html": [
       "<div>\n",
       "<style scoped>\n",
       "    .dataframe tbody tr th:only-of-type {\n",
       "        vertical-align: middle;\n",
       "    }\n",
       "\n",
       "    .dataframe tbody tr th {\n",
       "        vertical-align: top;\n",
       "    }\n",
       "\n",
       "    .dataframe thead th {\n",
       "        text-align: right;\n",
       "    }\n",
       "</style>\n",
       "<table border=\"1\" class=\"dataframe\">\n",
       "  <thead>\n",
       "    <tr style=\"text-align: right;\">\n",
       "      <th></th>\n",
       "      <th>date</th>\n",
       "      <th>seattle_precipitation</th>\n",
       "      <th>vancouver_precipitation</th>\n",
       "    </tr>\n",
       "  </thead>\n",
       "  <tbody>\n",
       "    <tr>\n",
       "      <th>0</th>\n",
       "      <td>2018-01-01</td>\n",
       "      <td>0.00</td>\n",
       "      <td>0.00</td>\n",
       "    </tr>\n",
       "    <tr>\n",
       "      <th>1</th>\n",
       "      <td>2018-01-02</td>\n",
       "      <td>0.00</td>\n",
       "      <td>0.00</td>\n",
       "    </tr>\n",
       "    <tr>\n",
       "      <th>2</th>\n",
       "      <td>2018-01-03</td>\n",
       "      <td>0.00</td>\n",
       "      <td>0.00</td>\n",
       "    </tr>\n",
       "    <tr>\n",
       "      <th>3</th>\n",
       "      <td>2018-01-04</td>\n",
       "      <td>0.00</td>\n",
       "      <td>0.00</td>\n",
       "    </tr>\n",
       "    <tr>\n",
       "      <th>4</th>\n",
       "      <td>2018-01-05</td>\n",
       "      <td>0.25</td>\n",
       "      <td>0.06</td>\n",
       "    </tr>\n",
       "  </tbody>\n",
       "</table>\n",
       "</div>"
      ],
      "text/plain": [
       "        date  seattle_precipitation  vancouver_precipitation\n",
       "0 2018-01-01                   0.00                     0.00\n",
       "1 2018-01-02                   0.00                     0.00\n",
       "2 2018-01-03                   0.00                     0.00\n",
       "3 2018-01-04                   0.00                     0.00\n",
       "4 2018-01-05                   0.25                     0.06"
      ]
     },
     "execution_count": 364,
     "metadata": {},
     "output_type": "execute_result"
    }
   ],
   "source": [
    "combine_city = pd.merge(seattle_df, vancouver_df, on = 'date')\n",
    "\n",
    "#rename column \n",
    "combine_city.rename(columns={'precipition_x':'seattle_precipitation','precipition_y':'vancouver_precipitation'})\n",
    "\n",
    "combine_city.head(5)\n",
    "\n"
   ]
  },
  {
   "cell_type": "code",
   "execution_count": 344,
   "id": "07cd1a7f",
   "metadata": {},
   "outputs": [
    {
     "data": {
      "application/vnd.microsoft.datawrangler.viewer.v0+json": {
       "columns": [
        {
         "name": "index",
         "rawType": "int64",
         "type": "integer"
        },
        {
         "name": "date",
         "rawType": "datetime64[ns]",
         "type": "datetime"
        },
        {
         "name": "city",
         "rawType": "object",
         "type": "string"
        },
        {
         "name": "precipitation",
         "rawType": "float64",
         "type": "float"
        }
       ],
       "ref": "b055ba71-87a8-4289-b6b7-d340687494b8",
       "rows": [
        [
         "0",
         "2018-01-01 00:00:00",
         "Seattle",
         "0.0"
        ],
        [
         "1",
         "2018-01-02 00:00:00",
         "Seattle",
         "0.0"
        ],
        [
         "2",
         "2018-01-03 00:00:00",
         "Seattle",
         "0.0"
        ],
        [
         "3",
         "2018-01-04 00:00:00",
         "Seattle",
         "0.0"
        ],
        [
         "4",
         "2018-01-05 00:00:00",
         "Seattle",
         "0.25"
        ],
        [
         "5",
         "2018-01-06 00:00:00",
         "Seattle",
         "0.57"
        ],
        [
         "6",
         "2018-01-07 00:00:00",
         "Seattle",
         "0.23"
        ],
        [
         "7",
         "2018-01-08 00:00:00",
         "Seattle",
         "0.41"
        ],
        [
         "8",
         "2018-03-12 00:00:00",
         "Seattle",
         "0.0"
        ],
        [
         "9",
         "2018-03-13 00:00:00",
         "Seattle",
         "0.0"
        ],
        [
         "10",
         "2018-03-14 00:00:00",
         "Seattle",
         "0.2"
        ],
        [
         "11",
         "2018-03-15 00:00:00",
         "Seattle",
         "0.02"
        ],
        [
         "12",
         "2018-03-16 00:00:00",
         "Seattle",
         "0.0"
        ],
        [
         "13",
         "2018-03-17 00:00:00",
         "Seattle",
         "0.0"
        ],
        [
         "14",
         "2018-03-18 00:00:00",
         "Seattle",
         "0.0"
        ],
        [
         "15",
         "2018-03-19 00:00:00",
         "Seattle",
         "0.0"
        ],
        [
         "16",
         "2018-03-20 00:00:00",
         "Seattle",
         "0.0"
        ],
        [
         "17",
         "2018-03-21 00:00:00",
         "Seattle",
         "0.0"
        ],
        [
         "18",
         "2018-03-22 00:00:00",
         "Seattle",
         "0.25"
        ],
        [
         "19",
         "2018-03-23 00:00:00",
         "Seattle",
         "0.29"
        ],
        [
         "20",
         "2018-03-24 00:00:00",
         "Seattle",
         "0.63"
        ],
        [
         "21",
         "2018-03-25 00:00:00",
         "Seattle",
         "0.0"
        ],
        [
         "22",
         "2018-03-26 00:00:00",
         "Seattle",
         "0.0"
        ],
        [
         "23",
         "2018-03-27 00:00:00",
         "Seattle",
         "0.0"
        ],
        [
         "24",
         "2018-03-28 00:00:00",
         "Seattle",
         "0.07"
        ],
        [
         "25",
         "2018-03-29 00:00:00",
         "Seattle",
         "0.0"
        ],
        [
         "26",
         "2018-03-30 00:00:00",
         "Seattle",
         "0.0"
        ],
        [
         "27",
         "2018-03-31 00:00:00",
         "Seattle",
         "0.0"
        ],
        [
         "28",
         "2018-04-01 00:00:00",
         "Seattle",
         "0.01"
        ],
        [
         "29",
         "2018-04-02 00:00:00",
         "Seattle",
         "0.16"
        ],
        [
         "30",
         "2018-04-03 00:00:00",
         "Seattle",
         "0.0"
        ],
        [
         "31",
         "2018-04-04 00:00:00",
         "Seattle",
         "0.08"
        ],
        [
         "32",
         "2018-04-05 00:00:00",
         "Seattle",
         "0.24"
        ],
        [
         "33",
         "2018-04-06 00:00:00",
         "Seattle",
         "0.21"
        ],
        [
         "34",
         "2018-04-07 00:00:00",
         "Seattle",
         "0.43"
        ],
        [
         "35",
         "2018-04-09 00:00:00",
         "Seattle",
         "0.04"
        ],
        [
         "36",
         "2018-04-10 00:00:00",
         "Seattle",
         "0.09"
        ],
        [
         "37",
         "2018-04-11 00:00:00",
         "Seattle",
         "0.19"
        ],
        [
         "38",
         "2018-04-12 00:00:00",
         "Seattle",
         "0.46"
        ],
        [
         "39",
         "2018-04-13 00:00:00",
         "Seattle",
         "0.18"
        ],
        [
         "40",
         "2018-04-14 00:00:00",
         "Seattle",
         "0.68"
        ],
        [
         "41",
         "2018-04-15 00:00:00",
         "Seattle",
         "1.65"
        ],
        [
         "42",
         "2018-04-16 00:00:00",
         "Seattle",
         "0.1"
        ],
        [
         "43",
         "2018-04-17 00:00:00",
         "Seattle",
         "0.11"
        ],
        [
         "44",
         "2018-04-18 00:00:00",
         "Seattle",
         "0.02"
        ],
        [
         "45",
         "2018-04-19 00:00:00",
         "Seattle",
         "0.0"
        ],
        [
         "46",
         "2018-04-20 00:00:00",
         "Seattle",
         "0.0"
        ],
        [
         "47",
         "2018-04-21 00:00:00",
         "Seattle",
         "0.05"
        ],
        [
         "48",
         "2018-04-22 00:00:00",
         "Seattle",
         "0.1"
        ],
        [
         "49",
         "2018-04-23 00:00:00",
         "Seattle",
         "0.0"
        ]
       ],
       "shape": {
        "columns": 3,
        "rows": 2754
       }
      },
      "text/html": [
       "<div>\n",
       "<style scoped>\n",
       "    .dataframe tbody tr th:only-of-type {\n",
       "        vertical-align: middle;\n",
       "    }\n",
       "\n",
       "    .dataframe tbody tr th {\n",
       "        vertical-align: top;\n",
       "    }\n",
       "\n",
       "    .dataframe thead th {\n",
       "        text-align: right;\n",
       "    }\n",
       "</style>\n",
       "<table border=\"1\" class=\"dataframe\">\n",
       "  <thead>\n",
       "    <tr style=\"text-align: right;\">\n",
       "      <th></th>\n",
       "      <th>date</th>\n",
       "      <th>city</th>\n",
       "      <th>precipitation</th>\n",
       "    </tr>\n",
       "  </thead>\n",
       "  <tbody>\n",
       "    <tr>\n",
       "      <th>0</th>\n",
       "      <td>2018-01-01</td>\n",
       "      <td>Seattle</td>\n",
       "      <td>0.00</td>\n",
       "    </tr>\n",
       "    <tr>\n",
       "      <th>1</th>\n",
       "      <td>2018-01-02</td>\n",
       "      <td>Seattle</td>\n",
       "      <td>0.00</td>\n",
       "    </tr>\n",
       "    <tr>\n",
       "      <th>2</th>\n",
       "      <td>2018-01-03</td>\n",
       "      <td>Seattle</td>\n",
       "      <td>0.00</td>\n",
       "    </tr>\n",
       "    <tr>\n",
       "      <th>3</th>\n",
       "      <td>2018-01-04</td>\n",
       "      <td>Seattle</td>\n",
       "      <td>0.00</td>\n",
       "    </tr>\n",
       "    <tr>\n",
       "      <th>4</th>\n",
       "      <td>2018-01-05</td>\n",
       "      <td>Seattle</td>\n",
       "      <td>0.25</td>\n",
       "    </tr>\n",
       "    <tr>\n",
       "      <th>...</th>\n",
       "      <td>...</td>\n",
       "      <td>...</td>\n",
       "      <td>...</td>\n",
       "    </tr>\n",
       "    <tr>\n",
       "      <th>2749</th>\n",
       "      <td>2022-12-26</td>\n",
       "      <td>Vancouver</td>\n",
       "      <td>1.13</td>\n",
       "    </tr>\n",
       "    <tr>\n",
       "      <th>2750</th>\n",
       "      <td>2022-12-27</td>\n",
       "      <td>Vancouver</td>\n",
       "      <td>0.53</td>\n",
       "    </tr>\n",
       "    <tr>\n",
       "      <th>2751</th>\n",
       "      <td>2022-12-28</td>\n",
       "      <td>Vancouver</td>\n",
       "      <td>1.06</td>\n",
       "    </tr>\n",
       "    <tr>\n",
       "      <th>2752</th>\n",
       "      <td>2022-12-30</td>\n",
       "      <td>Vancouver</td>\n",
       "      <td>0.59</td>\n",
       "    </tr>\n",
       "    <tr>\n",
       "      <th>2753</th>\n",
       "      <td>2022-12-31</td>\n",
       "      <td>Vancouver</td>\n",
       "      <td>0.38</td>\n",
       "    </tr>\n",
       "  </tbody>\n",
       "</table>\n",
       "<p>2754 rows × 3 columns</p>\n",
       "</div>"
      ],
      "text/plain": [
       "           date       city  precipitation\n",
       "0    2018-01-01    Seattle           0.00\n",
       "1    2018-01-02    Seattle           0.00\n",
       "2    2018-01-03    Seattle           0.00\n",
       "3    2018-01-04    Seattle           0.00\n",
       "4    2018-01-05    Seattle           0.25\n",
       "...         ...        ...            ...\n",
       "2749 2022-12-26  Vancouver           1.13\n",
       "2750 2022-12-27  Vancouver           0.53\n",
       "2751 2022-12-28  Vancouver           1.06\n",
       "2752 2022-12-30  Vancouver           0.59\n",
       "2753 2022-12-31  Vancouver           0.38\n",
       "\n",
       "[2754 rows x 3 columns]"
      ]
     },
     "execution_count": 344,
     "metadata": {},
     "output_type": "execute_result"
    }
   ],
   "source": [
    "# Ensure that the data frame is in a tidy, or long, format.\n",
    "\n",
    "tidy_df = combine_city.melt(id_vars='date', \n",
    "                            value_vars=['seattle_precipitation', 'vancouver_precipitation'],\n",
    "                            var_name='city', \n",
    "                            value_name='precipitation')\n",
    "\n",
    "# Clean up city names\n",
    "tidy_df['city'] = tidy_df['city'].replace({\n",
    "    'seattle_precipitation': 'Seattle',\n",
    "    'vancouver_precipitation': 'Vancouver'\n",
    "})\n",
    "\n",
    "tidy_df.head(5000)\n"
   ]
  },
  {
   "cell_type": "markdown",
   "id": "4c4e790b",
   "metadata": {},
   "source": [
    "* Count rainy days per month"
   ]
  },
  {
   "cell_type": "code",
   "execution_count": null,
   "id": "871494e6",
   "metadata": {},
   "outputs": [
    {
     "data": {
      "image/png": "[encoded data removed]",
      "text/plain": [
       "<Figure size 1200x600 with 1 Axes>"
      ]
     },
     "metadata": {},
     "output_type": "display_data"
    }
   ],
   "source": [
    "tidy_df['is_rain'] = tidy_df['precipitation'].apply(lambda x: 1 if x > 0 else 0)\n",
    "\n",
    "tidy_df['month'] = tidy_df['date'].dt.to_period('M')  # create month column\n",
    "monthly_rain = tidy_df.groupby(['city', 'month'])['precipitation'].sum().reset_index()\n",
    "monthly_rain.rename(columns={'precipitation':'monthly_total'}, inplace=True)\n",
    "\n",
    "\n",
    "monthly_rain.head(12)\n",
    "\n",
    "plt.figure(figsize=(12,6))\n",
    "sns.barplot(data=monthly_rain, x='month', y='monthly_total', hue='city')\n",
    "\n",
    "plt.xticks(rotation=45)\n",
    "plt.title('Number of Rainy Days per Month: Seattle vs Vancouver')\n",
    "plt.xlabel('Month')\n",
    "plt.ylabel('Number of Rainy Days')\n",
    "plt.legend(title='City')\n",
    "plt.show()\n"
   ]
  },
  {
   "cell_type": "markdown",
   "id": "bb48353c",
   "metadata": {},
   "source": [
    "* Vancouver generally has more rainy days than Seattle, especially in the late fall and winter (October–March).\n",
    "\n",
    "* Seattle’s highest rainy month is December 2022, while Vancouver peaks in October 2021."
   ]
  },
  {
   "cell_type": "markdown",
   "id": "26b3149d",
   "metadata": {},
   "source": [
    "Plot rainfall comparision"
   ]
  },
  {
   "cell_type": "markdown",
   "id": "9afaff22",
   "metadata": {},
   "source": [
    "Using lineplot to compare by month"
   ]
  },
  {
   "cell_type": "code",
   "execution_count": null,
   "id": "6ea98161",
   "metadata": {},
   "outputs": [
    {
     "data": {
      "image/png": "[encoded data removed]",
      "text/plain": [
       "<Figure size 1200x600 with 1 Axes>"
      ]
     },
     "metadata": {},
     "output_type": "display_data"
    }
   ],
   "source": [
    "#Create new column month\n",
    "tidy_df['date'] = pd.to_datetime(tidy_df['date'])\n",
    "\n",
    "tidy_df['month'] = tidy_df['date'].dt.to_period('M')\n",
    "\n",
    "# Group by city, month and calculate total rainfall\n",
    "monthly_rainfall = tidy_df.groupby(['city', 'month'])['precipitation'].sum().reset_index()\n",
    "\n",
    "monthly_rainfall['month'] = monthly_rainfall['month'].astype(str)\n",
    "\n",
    "\n",
    "monthly_rainfall.head(6)\n",
    "\n",
    "plt.figure(figsize=(12,6))\n",
    "sns.lineplot(data=monthly_rainfall, x='month', y='precipitation', hue='city')\n",
    "\n",
    "plt.title('Monthly Rainfall: Seattle vs Vancouver (2018-2022)')\n",
    "plt.xlabel('Month')\n",
    "plt.ylabel('Total Precipitation (inches)')\n",
    "plt.xticks(rotation=90)\n",
    "plt.show()"
   ]
  },
  {
   "cell_type": "markdown",
   "id": "c78b9acf",
   "metadata": {},
   "source": [
    "Using barplot to analysis data compare by years"
   ]
  },
  {
   "cell_type": "code",
   "execution_count": 361,
   "id": "0f59a9c8",
   "metadata": {},
   "outputs": [
    {
     "data": {
      "image/png": "[encoded data removed]",
      "text/plain": [
       "<Figure size 640x480 with 1 Axes>"
      ]
     },
     "metadata": {},
     "output_type": "display_data"
    }
   ],
   "source": [
    "#Create new column years\n",
    "tidy_df['years'] = tidy_df['date'].dt.year\n",
    "\n",
    "# Group by month and calculate total rainfall\n",
    "monthly_rainfall = tidy_df.groupby(['city','years'])[['precipitation']].sum().reset_index()\n",
    "\n",
    "monthly_rainfall['years'] = monthly_rainfall['years'].astype(str)\n",
    "\n",
    "sns.barplot(data=tidy_df,x='years', y='precipitation', hue='city')\n",
    "\n",
    "plt.title('Monthly Rainfall: Seattle vs Vancouver (2018-2022)')\n",
    "plt.xlabel('Month')\n",
    "plt.ylabel('Total Precipitation (inches)')\n",
    "plt.show()"
   ]
  },
  {
   "cell_type": "markdown",
   "id": "dc55aa36",
   "metadata": {},
   "source": [
    "* Over 5 years Vancouver has the highest rain and Vancouver typically adds 10-15 inches more rain than seattle each year.\n",
    "* Both cities saw a sharp increase from 2019 to 2020."
   ]
  },
  {
   "cell_type": "markdown",
   "id": "74a0fde3",
   "metadata": {},
   "source": []
  }
 ],
 "metadata": {
  "kernelspec": {
   "display_name": "base",
   "language": "python",
   "name": "python3"
  },
  "language_info": {
   "codemirror_mode": {
    "name": "ipython",
    "version": 3
   },
   "file_extension": ".py",
   "mimetype": "text/x-python",
   "name": "python",
   "nbconvert_exporter": "python",
   "pygments_lexer": "ipython3",
   "version": "3.13.5"
  }
 },
 "nbformat": 4,
 "nbformat_minor": 5
}
