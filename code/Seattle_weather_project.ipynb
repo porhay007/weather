{
 "cells": [
  {
   "cell_type": "markdown",
   "id": "d5ba3d4e",
   "metadata": {},
   "source": [
    "Comparing Rainfall : Seattle, WA V.S Vancouver, BC\n",
    "\n",
    "#Import libraries\n",
    "\n"
   ]
  },
  {
   "cell_type": "code",
   "execution_count": 397,
   "id": "e0da016d",
   "metadata": {},
   "outputs": [],
   "source": [
    "import pandas as pd\n",
    "import matplotlib as plt\n",
    "import matplotlib.pyplot as plt\n",
    "import seaborn as sns\n",
    "\n"
   ]
  },
  {
   "cell_type": "code",
   "execution_count": 386,
   "id": "3054c9d8",
   "metadata": {},
   "outputs": [],
   "source": [
    "#load data \n",
    "seattle_df = pd.read_csv(\"../data/seattle_rain.csv\")\n",
    "vancouver_df = pd.read_csv(\"../data/vancouver_rain.csv\")\n"
   ]
  },
  {
   "cell_type": "markdown",
   "id": "a65b5858",
   "metadata": {},
   "source": [
    "Inspect Data"
   ]
  },
  {
   "cell_type": "code",
   "execution_count": 387,
   "id": "87d27c70",
   "metadata": {},
   "outputs": [
    {
     "data": {
      "application/vnd.microsoft.datawrangler.viewer.v0+json": {
       "columns": [
        {
         "name": "index",
         "rawType": "int64",
         "type": "integer"
        },
        {
         "name": "STATION",
         "rawType": "object",
         "type": "string"
        },
        {
         "name": "NAME",
         "rawType": "object",
         "type": "string"
        },
        {
         "name": "DATE",
         "rawType": "object",
         "type": "string"
        },
        {
         "name": "DAPR",
         "rawType": "float64",
         "type": "float"
        },
        {
         "name": "MDPR",
         "rawType": "float64",
         "type": "float"
        },
        {
         "name": "PRCP",
         "rawType": "float64",
         "type": "float"
        },
        {
         "name": "SNOW",
         "rawType": "float64",
         "type": "float"
        },
        {
         "name": "SNWD",
         "rawType": "float64",
         "type": "float"
        }
       ],
       "ref": "52b30926-353d-4f1b-83c6-70020b8e0aea",
       "rows": [
        [
         "0",
         "CA1BC000039",
         "VANCOUVER 3.4 SSW, BC CA",
         "2018-01-01",
         null,
         null,
         "0.0",
         "0.0",
         null
        ],
        [
         "1",
         "CA1BC000039",
         "VANCOUVER 3.4 SSW, BC CA",
         "2018-01-02",
         null,
         null,
         "0.0",
         "0.0",
         null
        ],
        [
         "2",
         "CA1BC000039",
         "VANCOUVER 3.4 SSW, BC CA",
         "2018-01-03",
         null,
         null,
         "0.0",
         "0.0",
         null
        ],
        [
         "3",
         "CA1BC000039",
         "VANCOUVER 3.4 SSW, BC CA",
         "2018-01-04",
         null,
         null,
         "0.0",
         "0.0",
         null
        ],
        [
         "4",
         "CA1BC000039",
         "VANCOUVER 3.4 SSW, BC CA",
         "2018-01-05",
         null,
         null,
         "0.06",
         null,
         null
        ]
       ],
       "shape": {
        "columns": 8,
        "rows": 5
       }
      },
      "text/html": [
       "<div>\n",
       "<style scoped>\n",
       "    .dataframe tbody tr th:only-of-type {\n",
       "        vertical-align: middle;\n",
       "    }\n",
       "\n",
       "    .dataframe tbody tr th {\n",
       "        vertical-align: top;\n",
       "    }\n",
       "\n",
       "    .dataframe thead th {\n",
       "        text-align: right;\n",
       "    }\n",
       "</style>\n",
       "<table border=\"1\" class=\"dataframe\">\n",
       "  <thead>\n",
       "    <tr style=\"text-align: right;\">\n",
       "      <th></th>\n",
       "      <th>STATION</th>\n",
       "      <th>NAME</th>\n",
       "      <th>DATE</th>\n",
       "      <th>DAPR</th>\n",
       "      <th>MDPR</th>\n",
       "      <th>PRCP</th>\n",
       "      <th>SNOW</th>\n",
       "      <th>SNWD</th>\n",
       "    </tr>\n",
       "  </thead>\n",
       "  <tbody>\n",
       "    <tr>\n",
       "      <th>0</th>\n",
       "      <td>CA1BC000039</td>\n",
       "      <td>VANCOUVER 3.4 SSW, BC CA</td>\n",
       "      <td>2018-01-01</td>\n",
       "      <td>NaN</td>\n",
       "      <td>NaN</td>\n",
       "      <td>0.00</td>\n",
       "      <td>0.0</td>\n",
       "      <td>NaN</td>\n",
       "    </tr>\n",
       "    <tr>\n",
       "      <th>1</th>\n",
       "      <td>CA1BC000039</td>\n",
       "      <td>VANCOUVER 3.4 SSW, BC CA</td>\n",
       "      <td>2018-01-02</td>\n",
       "      <td>NaN</td>\n",
       "      <td>NaN</td>\n",
       "      <td>0.00</td>\n",
       "      <td>0.0</td>\n",
       "      <td>NaN</td>\n",
       "    </tr>\n",
       "    <tr>\n",
       "      <th>2</th>\n",
       "      <td>CA1BC000039</td>\n",
       "      <td>VANCOUVER 3.4 SSW, BC CA</td>\n",
       "      <td>2018-01-03</td>\n",
       "      <td>NaN</td>\n",
       "      <td>NaN</td>\n",
       "      <td>0.00</td>\n",
       "      <td>0.0</td>\n",
       "      <td>NaN</td>\n",
       "    </tr>\n",
       "    <tr>\n",
       "      <th>3</th>\n",
       "      <td>CA1BC000039</td>\n",
       "      <td>VANCOUVER 3.4 SSW, BC CA</td>\n",
       "      <td>2018-01-04</td>\n",
       "      <td>NaN</td>\n",
       "      <td>NaN</td>\n",
       "      <td>0.00</td>\n",
       "      <td>0.0</td>\n",
       "      <td>NaN</td>\n",
       "    </tr>\n",
       "    <tr>\n",
       "      <th>4</th>\n",
       "      <td>CA1BC000039</td>\n",
       "      <td>VANCOUVER 3.4 SSW, BC CA</td>\n",
       "      <td>2018-01-05</td>\n",
       "      <td>NaN</td>\n",
       "      <td>NaN</td>\n",
       "      <td>0.06</td>\n",
       "      <td>NaN</td>\n",
       "      <td>NaN</td>\n",
       "    </tr>\n",
       "  </tbody>\n",
       "</table>\n",
       "</div>"
      ],
      "text/plain": [
       "       STATION                      NAME        DATE  DAPR  MDPR  PRCP  SNOW  \\\n",
       "0  CA1BC000039  VANCOUVER 3.4 SSW, BC CA  2018-01-01   NaN   NaN  0.00   0.0   \n",
       "1  CA1BC000039  VANCOUVER 3.4 SSW, BC CA  2018-01-02   NaN   NaN  0.00   0.0   \n",
       "2  CA1BC000039  VANCOUVER 3.4 SSW, BC CA  2018-01-03   NaN   NaN  0.00   0.0   \n",
       "3  CA1BC000039  VANCOUVER 3.4 SSW, BC CA  2018-01-04   NaN   NaN  0.00   0.0   \n",
       "4  CA1BC000039  VANCOUVER 3.4 SSW, BC CA  2018-01-05   NaN   NaN  0.06   NaN   \n",
       "\n",
       "   SNWD  \n",
       "0   NaN  \n",
       "1   NaN  \n",
       "2   NaN  \n",
       "3   NaN  \n",
       "4   NaN  "
      ]
     },
     "metadata": {},
     "output_type": "display_data"
    },
    {
     "name": "stdout",
     "output_type": "stream",
     "text": [
      "<class 'pandas.core.frame.DataFrame'>\n",
      "RangeIndex: 1531 entries, 0 to 1530\n",
      "Data columns (total 8 columns):\n",
      " #   Column   Non-Null Count  Dtype  \n",
      "---  ------   --------------  -----  \n",
      " 0   STATION  1531 non-null   object \n",
      " 1   NAME     1531 non-null   object \n",
      " 2   DATE     1531 non-null   object \n",
      " 3   DAPR     30 non-null     float64\n",
      " 4   MDPR     30 non-null     float64\n",
      " 5   PRCP     1501 non-null   float64\n",
      " 6   SNOW     701 non-null    float64\n",
      " 7   SNWD     26 non-null     float64\n",
      "dtypes: float64(5), object(3)\n",
      "memory usage: 95.8+ KB\n"
     ]
    },
    {
     "data": {
      "text/plain": [
       "None"
      ]
     },
     "metadata": {},
     "output_type": "display_data"
    }
   ],
   "source": [
    "\n",
    "display(vancouver_df.head(5))\n",
    "display(vancouver_df.info())"
   ]
  },
  {
   "cell_type": "markdown",
   "id": "56ac1c92",
   "metadata": {},
   "source": [
    "Rename Column   "
   ]
  },
  {
   "cell_type": "code",
   "execution_count": 388,
   "id": "5444d827",
   "metadata": {},
   "outputs": [
    {
     "data": {
      "application/vnd.microsoft.datawrangler.viewer.v0+json": {
       "columns": [
        {
         "name": "index",
         "rawType": "int64",
         "type": "integer"
        },
        {
         "name": "STATION",
         "rawType": "object",
         "type": "string"
        },
        {
         "name": "NAME",
         "rawType": "object",
         "type": "string"
        },
        {
         "name": "date",
         "rawType": "object",
         "type": "string"
        },
        {
         "name": "DAPR",
         "rawType": "float64",
         "type": "float"
        },
        {
         "name": "MDPR",
         "rawType": "float64",
         "type": "float"
        },
        {
         "name": "vancouver_precipitation",
         "rawType": "float64",
         "type": "float"
        },
        {
         "name": "SNOW",
         "rawType": "float64",
         "type": "float"
        },
        {
         "name": "SNWD",
         "rawType": "float64",
         "type": "float"
        }
       ],
       "ref": "471d240e-2db2-4883-83c3-0beff45c0400",
       "rows": [
        [
         "0",
         "CA1BC000039",
         "VANCOUVER 3.4 SSW, BC CA",
         "2018-01-01",
         null,
         null,
         "0.0",
         "0.0",
         null
        ],
        [
         "1",
         "CA1BC000039",
         "VANCOUVER 3.4 SSW, BC CA",
         "2018-01-02",
         null,
         null,
         "0.0",
         "0.0",
         null
        ],
        [
         "2",
         "CA1BC000039",
         "VANCOUVER 3.4 SSW, BC CA",
         "2018-01-03",
         null,
         null,
         "0.0",
         "0.0",
         null
        ]
       ],
       "shape": {
        "columns": 8,
        "rows": 3
       }
      },
      "text/html": [
       "<div>\n",
       "<style scoped>\n",
       "    .dataframe tbody tr th:only-of-type {\n",
       "        vertical-align: middle;\n",
       "    }\n",
       "\n",
       "    .dataframe tbody tr th {\n",
       "        vertical-align: top;\n",
       "    }\n",
       "\n",
       "    .dataframe thead th {\n",
       "        text-align: right;\n",
       "    }\n",
       "</style>\n",
       "<table border=\"1\" class=\"dataframe\">\n",
       "  <thead>\n",
       "    <tr style=\"text-align: right;\">\n",
       "      <th></th>\n",
       "      <th>STATION</th>\n",
       "      <th>NAME</th>\n",
       "      <th>date</th>\n",
       "      <th>DAPR</th>\n",
       "      <th>MDPR</th>\n",
       "      <th>vancouver_precipitation</th>\n",
       "      <th>SNOW</th>\n",
       "      <th>SNWD</th>\n",
       "    </tr>\n",
       "  </thead>\n",
       "  <tbody>\n",
       "    <tr>\n",
       "      <th>0</th>\n",
       "      <td>CA1BC000039</td>\n",
       "      <td>VANCOUVER 3.4 SSW, BC CA</td>\n",
       "      <td>2018-01-01</td>\n",
       "      <td>NaN</td>\n",
       "      <td>NaN</td>\n",
       "      <td>0.0</td>\n",
       "      <td>0.0</td>\n",
       "      <td>NaN</td>\n",
       "    </tr>\n",
       "    <tr>\n",
       "      <th>1</th>\n",
       "      <td>CA1BC000039</td>\n",
       "      <td>VANCOUVER 3.4 SSW, BC CA</td>\n",
       "      <td>2018-01-02</td>\n",
       "      <td>NaN</td>\n",
       "      <td>NaN</td>\n",
       "      <td>0.0</td>\n",
       "      <td>0.0</td>\n",
       "      <td>NaN</td>\n",
       "    </tr>\n",
       "    <tr>\n",
       "      <th>2</th>\n",
       "      <td>CA1BC000039</td>\n",
       "      <td>VANCOUVER 3.4 SSW, BC CA</td>\n",
       "      <td>2018-01-03</td>\n",
       "      <td>NaN</td>\n",
       "      <td>NaN</td>\n",
       "      <td>0.0</td>\n",
       "      <td>0.0</td>\n",
       "      <td>NaN</td>\n",
       "    </tr>\n",
       "  </tbody>\n",
       "</table>\n",
       "</div>"
      ],
      "text/plain": [
       "       STATION                      NAME        date  DAPR  MDPR  \\\n",
       "0  CA1BC000039  VANCOUVER 3.4 SSW, BC CA  2018-01-01   NaN   NaN   \n",
       "1  CA1BC000039  VANCOUVER 3.4 SSW, BC CA  2018-01-02   NaN   NaN   \n",
       "2  CA1BC000039  VANCOUVER 3.4 SSW, BC CA  2018-01-03   NaN   NaN   \n",
       "\n",
       "   vancouver_precipitation  SNOW  SNWD  \n",
       "0                      0.0   0.0   NaN  \n",
       "1                      0.0   0.0   NaN  \n",
       "2                      0.0   0.0   NaN  "
      ]
     },
     "execution_count": 388,
     "metadata": {},
     "output_type": "execute_result"
    }
   ],
   "source": [
    "seattle_df.rename(columns={'PRCP':'seattle_precipitation', 'DATE' : 'date'}, inplace= True)\n",
    "vancouver_df.rename(columns={'PRCP':'vancouver_precipitation','DATE': 'date'}, inplace= True)\n",
    "\n",
    "\n",
    "vancouver_df.head(3)"
   ]
  },
  {
   "cell_type": "markdown",
   "id": "2f5569df",
   "metadata": {},
   "source": [
    "Convert Date"
   ]
  },
  {
   "cell_type": "code",
   "execution_count": 389,
   "id": "156071ab",
   "metadata": {},
   "outputs": [
    {
     "name": "stderr",
     "output_type": "stream",
     "text": [
      "/var/folders/wx/0m6_v4n9285892l822ksy8740000gn/T/ipykernel_22299/1866814333.py:1: UserWarning: Could not infer format, so each element will be parsed individually, falling back to `dateutil`. To ensure parsing is consistent and as-expected, please specify a format.\n",
      "  seattle_df['date'] = pd.to_datetime(seattle_df['date'])\n"
     ]
    },
    {
     "data": {
      "application/vnd.microsoft.datawrangler.viewer.v0+json": {
       "columns": [
        {
         "name": "index",
         "rawType": "int64",
         "type": "integer"
        },
        {
         "name": "STATION",
         "rawType": "object",
         "type": "string"
        },
        {
         "name": "NAME",
         "rawType": "object",
         "type": "string"
        },
        {
         "name": "date",
         "rawType": "datetime64[ns]",
         "type": "datetime"
        },
        {
         "name": "DAPR",
         "rawType": "float64",
         "type": "float"
        },
        {
         "name": "MDPR",
         "rawType": "float64",
         "type": "float"
        },
        {
         "name": "vancouver_precipitation",
         "rawType": "float64",
         "type": "float"
        },
        {
         "name": "SNOW",
         "rawType": "float64",
         "type": "float"
        },
        {
         "name": "SNWD",
         "rawType": "float64",
         "type": "float"
        }
       ],
       "ref": "5922611f-697b-4b44-b343-e7da2b874aec",
       "rows": [
        [
         "0",
         "CA1BC000039",
         "VANCOUVER 3.4 SSW, BC CA",
         "2018-01-01 00:00:00",
         null,
         null,
         "0.0",
         "0.0",
         null
        ],
        [
         "1",
         "CA1BC000039",
         "VANCOUVER 3.4 SSW, BC CA",
         "2018-01-02 00:00:00",
         null,
         null,
         "0.0",
         "0.0",
         null
        ],
        [
         "2",
         "CA1BC000039",
         "VANCOUVER 3.4 SSW, BC CA",
         "2018-01-03 00:00:00",
         null,
         null,
         "0.0",
         "0.0",
         null
        ],
        [
         "3",
         "CA1BC000039",
         "VANCOUVER 3.4 SSW, BC CA",
         "2018-01-04 00:00:00",
         null,
         null,
         "0.0",
         "0.0",
         null
        ],
        [
         "4",
         "CA1BC000039",
         "VANCOUVER 3.4 SSW, BC CA",
         "2018-01-05 00:00:00",
         null,
         null,
         "0.06",
         null,
         null
        ]
       ],
       "shape": {
        "columns": 8,
        "rows": 5
       }
      },
      "text/html": [
       "<div>\n",
       "<style scoped>\n",
       "    .dataframe tbody tr th:only-of-type {\n",
       "        vertical-align: middle;\n",
       "    }\n",
       "\n",
       "    .dataframe tbody tr th {\n",
       "        vertical-align: top;\n",
       "    }\n",
       "\n",
       "    .dataframe thead th {\n",
       "        text-align: right;\n",
       "    }\n",
       "</style>\n",
       "<table border=\"1\" class=\"dataframe\">\n",
       "  <thead>\n",
       "    <tr style=\"text-align: right;\">\n",
       "      <th></th>\n",
       "      <th>STATION</th>\n",
       "      <th>NAME</th>\n",
       "      <th>date</th>\n",
       "      <th>DAPR</th>\n",
       "      <th>MDPR</th>\n",
       "      <th>vancouver_precipitation</th>\n",
       "      <th>SNOW</th>\n",
       "      <th>SNWD</th>\n",
       "    </tr>\n",
       "  </thead>\n",
       "  <tbody>\n",
       "    <tr>\n",
       "      <th>0</th>\n",
       "      <td>CA1BC000039</td>\n",
       "      <td>VANCOUVER 3.4 SSW, BC CA</td>\n",
       "      <td>2018-01-01</td>\n",
       "      <td>NaN</td>\n",
       "      <td>NaN</td>\n",
       "      <td>0.00</td>\n",
       "      <td>0.0</td>\n",
       "      <td>NaN</td>\n",
       "    </tr>\n",
       "    <tr>\n",
       "      <th>1</th>\n",
       "      <td>CA1BC000039</td>\n",
       "      <td>VANCOUVER 3.4 SSW, BC CA</td>\n",
       "      <td>2018-01-02</td>\n",
       "      <td>NaN</td>\n",
       "      <td>NaN</td>\n",
       "      <td>0.00</td>\n",
       "      <td>0.0</td>\n",
       "      <td>NaN</td>\n",
       "    </tr>\n",
       "    <tr>\n",
       "      <th>2</th>\n",
       "      <td>CA1BC000039</td>\n",
       "      <td>VANCOUVER 3.4 SSW, BC CA</td>\n",
       "      <td>2018-01-03</td>\n",
       "      <td>NaN</td>\n",
       "      <td>NaN</td>\n",
       "      <td>0.00</td>\n",
       "      <td>0.0</td>\n",
       "      <td>NaN</td>\n",
       "    </tr>\n",
       "    <tr>\n",
       "      <th>3</th>\n",
       "      <td>CA1BC000039</td>\n",
       "      <td>VANCOUVER 3.4 SSW, BC CA</td>\n",
       "      <td>2018-01-04</td>\n",
       "      <td>NaN</td>\n",
       "      <td>NaN</td>\n",
       "      <td>0.00</td>\n",
       "      <td>0.0</td>\n",
       "      <td>NaN</td>\n",
       "    </tr>\n",
       "    <tr>\n",
       "      <th>4</th>\n",
       "      <td>CA1BC000039</td>\n",
       "      <td>VANCOUVER 3.4 SSW, BC CA</td>\n",
       "      <td>2018-01-05</td>\n",
       "      <td>NaN</td>\n",
       "      <td>NaN</td>\n",
       "      <td>0.06</td>\n",
       "      <td>NaN</td>\n",
       "      <td>NaN</td>\n",
       "    </tr>\n",
       "  </tbody>\n",
       "</table>\n",
       "</div>"
      ],
      "text/plain": [
       "       STATION                      NAME       date  DAPR  MDPR  \\\n",
       "0  CA1BC000039  VANCOUVER 3.4 SSW, BC CA 2018-01-01   NaN   NaN   \n",
       "1  CA1BC000039  VANCOUVER 3.4 SSW, BC CA 2018-01-02   NaN   NaN   \n",
       "2  CA1BC000039  VANCOUVER 3.4 SSW, BC CA 2018-01-03   NaN   NaN   \n",
       "3  CA1BC000039  VANCOUVER 3.4 SSW, BC CA 2018-01-04   NaN   NaN   \n",
       "4  CA1BC000039  VANCOUVER 3.4 SSW, BC CA 2018-01-05   NaN   NaN   \n",
       "\n",
       "   vancouver_precipitation  SNOW  SNWD  \n",
       "0                     0.00   0.0   NaN  \n",
       "1                     0.00   0.0   NaN  \n",
       "2                     0.00   0.0   NaN  \n",
       "3                     0.00   0.0   NaN  \n",
       "4                     0.06   NaN   NaN  "
      ]
     },
     "metadata": {},
     "output_type": "display_data"
    }
   ],
   "source": [
    "seattle_df['date'] = pd.to_datetime(seattle_df['date'])\n",
    "vancouver_df['date'] = pd.to_datetime(vancouver_df['date'])\n",
    "\n",
    "\n",
    "\n",
    "display(vancouver_df.head(5))"
   ]
  },
  {
   "cell_type": "markdown",
   "id": "f1011fdf",
   "metadata": {},
   "source": [
    "Replace NAN value to Zero and Remove Duplicate"
   ]
  },
  {
   "cell_type": "code",
   "execution_count": 390,
   "id": "8ce64c0b",
   "metadata": {},
   "outputs": [
    {
     "data": {
      "application/vnd.microsoft.datawrangler.viewer.v0+json": {
       "columns": [
        {
         "name": "index",
         "rawType": "int64",
         "type": "integer"
        },
        {
         "name": "STATION",
         "rawType": "object",
         "type": "string"
        },
        {
         "name": "NAME",
         "rawType": "object",
         "type": "string"
        },
        {
         "name": "date",
         "rawType": "datetime64[ns]",
         "type": "datetime"
        },
        {
         "name": "DAPR",
         "rawType": "float64",
         "type": "float"
        },
        {
         "name": "MDPR",
         "rawType": "float64",
         "type": "float"
        },
        {
         "name": "vancouver_precipitation",
         "rawType": "float64",
         "type": "float"
        },
        {
         "name": "SNOW",
         "rawType": "float64",
         "type": "float"
        },
        {
         "name": "SNWD",
         "rawType": "float64",
         "type": "float"
        }
       ],
       "ref": "38fa6233-4ce5-40d3-ba73-4d430e785ee0",
       "rows": [
        [
         "0",
         "CA1BC000039",
         "VANCOUVER 3.4 SSW, BC CA",
         "2018-01-01 00:00:00",
         "0.0",
         "0.0",
         "0.0",
         "0.0",
         "0.0"
        ],
        [
         "1",
         "CA1BC000039",
         "VANCOUVER 3.4 SSW, BC CA",
         "2018-01-02 00:00:00",
         "0.0",
         "0.0",
         "0.0",
         "0.0",
         "0.0"
        ],
        [
         "2",
         "CA1BC000039",
         "VANCOUVER 3.4 SSW, BC CA",
         "2018-01-03 00:00:00",
         "0.0",
         "0.0",
         "0.0",
         "0.0",
         "0.0"
        ],
        [
         "3",
         "CA1BC000039",
         "VANCOUVER 3.4 SSW, BC CA",
         "2018-01-04 00:00:00",
         "0.0",
         "0.0",
         "0.0",
         "0.0",
         "0.0"
        ],
        [
         "4",
         "CA1BC000039",
         "VANCOUVER 3.4 SSW, BC CA",
         "2018-01-05 00:00:00",
         "0.0",
         "0.0",
         "0.06",
         "0.0",
         "0.0"
        ]
       ],
       "shape": {
        "columns": 8,
        "rows": 5
       }
      },
      "text/html": [
       "<div>\n",
       "<style scoped>\n",
       "    .dataframe tbody tr th:only-of-type {\n",
       "        vertical-align: middle;\n",
       "    }\n",
       "\n",
       "    .dataframe tbody tr th {\n",
       "        vertical-align: top;\n",
       "    }\n",
       "\n",
       "    .dataframe thead th {\n",
       "        text-align: right;\n",
       "    }\n",
       "</style>\n",
       "<table border=\"1\" class=\"dataframe\">\n",
       "  <thead>\n",
       "    <tr style=\"text-align: right;\">\n",
       "      <th></th>\n",
       "      <th>STATION</th>\n",
       "      <th>NAME</th>\n",
       "      <th>date</th>\n",
       "      <th>DAPR</th>\n",
       "      <th>MDPR</th>\n",
       "      <th>vancouver_precipitation</th>\n",
       "      <th>SNOW</th>\n",
       "      <th>SNWD</th>\n",
       "    </tr>\n",
       "  </thead>\n",
       "  <tbody>\n",
       "    <tr>\n",
       "      <th>0</th>\n",
       "      <td>CA1BC000039</td>\n",
       "      <td>VANCOUVER 3.4 SSW, BC CA</td>\n",
       "      <td>2018-01-01</td>\n",
       "      <td>0.0</td>\n",
       "      <td>0.0</td>\n",
       "      <td>0.00</td>\n",
       "      <td>0.0</td>\n",
       "      <td>0.0</td>\n",
       "    </tr>\n",
       "    <tr>\n",
       "      <th>1</th>\n",
       "      <td>CA1BC000039</td>\n",
       "      <td>VANCOUVER 3.4 SSW, BC CA</td>\n",
       "      <td>2018-01-02</td>\n",
       "      <td>0.0</td>\n",
       "      <td>0.0</td>\n",
       "      <td>0.00</td>\n",
       "      <td>0.0</td>\n",
       "      <td>0.0</td>\n",
       "    </tr>\n",
       "    <tr>\n",
       "      <th>2</th>\n",
       "      <td>CA1BC000039</td>\n",
       "      <td>VANCOUVER 3.4 SSW, BC CA</td>\n",
       "      <td>2018-01-03</td>\n",
       "      <td>0.0</td>\n",
       "      <td>0.0</td>\n",
       "      <td>0.00</td>\n",
       "      <td>0.0</td>\n",
       "      <td>0.0</td>\n",
       "    </tr>\n",
       "    <tr>\n",
       "      <th>3</th>\n",
       "      <td>CA1BC000039</td>\n",
       "      <td>VANCOUVER 3.4 SSW, BC CA</td>\n",
       "      <td>2018-01-04</td>\n",
       "      <td>0.0</td>\n",
       "      <td>0.0</td>\n",
       "      <td>0.00</td>\n",
       "      <td>0.0</td>\n",
       "      <td>0.0</td>\n",
       "    </tr>\n",
       "    <tr>\n",
       "      <th>4</th>\n",
       "      <td>CA1BC000039</td>\n",
       "      <td>VANCOUVER 3.4 SSW, BC CA</td>\n",
       "      <td>2018-01-05</td>\n",
       "      <td>0.0</td>\n",
       "      <td>0.0</td>\n",
       "      <td>0.06</td>\n",
       "      <td>0.0</td>\n",
       "      <td>0.0</td>\n",
       "    </tr>\n",
       "  </tbody>\n",
       "</table>\n",
       "</div>"
      ],
      "text/plain": [
       "       STATION                      NAME       date  DAPR  MDPR  \\\n",
       "0  CA1BC000039  VANCOUVER 3.4 SSW, BC CA 2018-01-01   0.0   0.0   \n",
       "1  CA1BC000039  VANCOUVER 3.4 SSW, BC CA 2018-01-02   0.0   0.0   \n",
       "2  CA1BC000039  VANCOUVER 3.4 SSW, BC CA 2018-01-03   0.0   0.0   \n",
       "3  CA1BC000039  VANCOUVER 3.4 SSW, BC CA 2018-01-04   0.0   0.0   \n",
       "4  CA1BC000039  VANCOUVER 3.4 SSW, BC CA 2018-01-05   0.0   0.0   \n",
       "\n",
       "   vancouver_precipitation  SNOW  SNWD  \n",
       "0                     0.00   0.0   0.0  \n",
       "1                     0.00   0.0   0.0  \n",
       "2                     0.00   0.0   0.0  \n",
       "3                     0.00   0.0   0.0  \n",
       "4                     0.06   0.0   0.0  "
      ]
     },
     "metadata": {},
     "output_type": "display_data"
    },
    {
     "name": "stdout",
     "output_type": "stream",
     "text": [
      "<class 'pandas.core.frame.DataFrame'>\n",
      "RangeIndex: 1658 entries, 0 to 1657\n",
      "Data columns (total 10 columns):\n",
      " #   Column                 Non-Null Count  Dtype         \n",
      "---  ------                 --------------  -----         \n",
      " 0   STATION                1658 non-null   object        \n",
      " 1   NAME                   1658 non-null   object        \n",
      " 2   date                   1658 non-null   datetime64[ns]\n",
      " 3   DAPR                   1658 non-null   float64       \n",
      " 4   MDPR                   1658 non-null   float64       \n",
      " 5   seattle_precipitation  1658 non-null   float64       \n",
      " 6   SNOW                   1658 non-null   float64       \n",
      " 7   SNWD                   1658 non-null   float64       \n",
      " 8   WESD                   1658 non-null   float64       \n",
      " 9   WESF                   1658 non-null   float64       \n",
      "dtypes: datetime64[ns](1), float64(7), object(2)\n",
      "memory usage: 129.7+ KB\n"
     ]
    },
    {
     "data": {
      "text/plain": [
       "None"
      ]
     },
     "metadata": {},
     "output_type": "display_data"
    }
   ],
   "source": [
    "\n",
    "vancouver_df = vancouver_df.fillna(0)\n",
    "seattle_df = seattle_df.fillna(0)\n",
    "\n",
    "\n",
    "# Remove duplicate rows if any\n",
    "seattle_df = seattle_df.drop_duplicates()\n",
    "vancouver_df = vancouver_df.drop_duplicates()\n",
    "\n",
    "# Filter datasets to only include dates between 2018-01-01 and 2022-12-31\n",
    "start_date = '2018-01-01'\n",
    "end_date = '2022-12-31'\n",
    "\n",
    "seattle_df = seattle_df[(seattle_df['date'] >= start_date) & (seattle_df['date'] <= end_date)]\n",
    "vancouver_df = vancouver_df[(vancouver_df['date'] >= start_date) & (vancouver_df['date'] <= end_date)]\n",
    "\n",
    "\n",
    "display(vancouver_df.head())\n",
    "display(seattle_df.info())\n",
    "\n"
   ]
  },
  {
   "cell_type": "markdown",
   "id": "af8a66ab",
   "metadata": {},
   "source": [
    "Select Only Date and Precipitation"
   ]
  },
  {
   "cell_type": "code",
   "execution_count": 391,
   "id": "7cdec0eb",
   "metadata": {},
   "outputs": [],
   "source": [
    "seattle_df = seattle_df[['date', 'seattle_precipitation']]\n",
    "vancouver_df = vancouver_df[['date', 'vancouver_precipitation']]"
   ]
  },
  {
   "cell_type": "markdown",
   "id": "487aa5e1",
   "metadata": {},
   "source": [
    "Merge Datasets on date"
   ]
  },
  {
   "cell_type": "code",
   "execution_count": 392,
   "id": "712aaf5f",
   "metadata": {},
   "outputs": [
    {
     "data": {
      "application/vnd.microsoft.datawrangler.viewer.v0+json": {
       "columns": [
        {
         "name": "index",
         "rawType": "int64",
         "type": "integer"
        },
        {
         "name": "date",
         "rawType": "datetime64[ns]",
         "type": "datetime"
        },
        {
         "name": "seattle_precipitation",
         "rawType": "float64",
         "type": "float"
        },
        {
         "name": "vancouver_precipitation",
         "rawType": "float64",
         "type": "float"
        }
       ],
       "ref": "bba9b178-66c7-4e8e-85d7-42abf8183324",
       "rows": [
        [
         "0",
         "2018-01-01 00:00:00",
         "0.0",
         "0.0"
        ],
        [
         "1",
         "2018-01-02 00:00:00",
         "0.0",
         "0.0"
        ],
        [
         "2",
         "2018-01-03 00:00:00",
         "0.0",
         "0.0"
        ],
        [
         "3",
         "2018-01-04 00:00:00",
         "0.0",
         "0.0"
        ],
        [
         "4",
         "2018-01-05 00:00:00",
         "0.25",
         "0.06"
        ]
       ],
       "shape": {
        "columns": 3,
        "rows": 5
       }
      },
      "text/html": [
       "<div>\n",
       "<style scoped>\n",
       "    .dataframe tbody tr th:only-of-type {\n",
       "        vertical-align: middle;\n",
       "    }\n",
       "\n",
       "    .dataframe tbody tr th {\n",
       "        vertical-align: top;\n",
       "    }\n",
       "\n",
       "    .dataframe thead th {\n",
       "        text-align: right;\n",
       "    }\n",
       "</style>\n",
       "<table border=\"1\" class=\"dataframe\">\n",
       "  <thead>\n",
       "    <tr style=\"text-align: right;\">\n",
       "      <th></th>\n",
       "      <th>date</th>\n",
       "      <th>seattle_precipitation</th>\n",
       "      <th>vancouver_precipitation</th>\n",
       "    </tr>\n",
       "  </thead>\n",
       "  <tbody>\n",
       "    <tr>\n",
       "      <th>0</th>\n",
       "      <td>2018-01-01</td>\n",
       "      <td>0.00</td>\n",
       "      <td>0.00</td>\n",
       "    </tr>\n",
       "    <tr>\n",
       "      <th>1</th>\n",
       "      <td>2018-01-02</td>\n",
       "      <td>0.00</td>\n",
       "      <td>0.00</td>\n",
       "    </tr>\n",
       "    <tr>\n",
       "      <th>2</th>\n",
       "      <td>2018-01-03</td>\n",
       "      <td>0.00</td>\n",
       "      <td>0.00</td>\n",
       "    </tr>\n",
       "    <tr>\n",
       "      <th>3</th>\n",
       "      <td>2018-01-04</td>\n",
       "      <td>0.00</td>\n",
       "      <td>0.00</td>\n",
       "    </tr>\n",
       "    <tr>\n",
       "      <th>4</th>\n",
       "      <td>2018-01-05</td>\n",
       "      <td>0.25</td>\n",
       "      <td>0.06</td>\n",
       "    </tr>\n",
       "  </tbody>\n",
       "</table>\n",
       "</div>"
      ],
      "text/plain": [
       "        date  seattle_precipitation  vancouver_precipitation\n",
       "0 2018-01-01                   0.00                     0.00\n",
       "1 2018-01-02                   0.00                     0.00\n",
       "2 2018-01-03                   0.00                     0.00\n",
       "3 2018-01-04                   0.00                     0.00\n",
       "4 2018-01-05                   0.25                     0.06"
      ]
     },
     "execution_count": 392,
     "metadata": {},
     "output_type": "execute_result"
    }
   ],
   "source": [
    "combine_city = pd.merge(seattle_df, vancouver_df, on = 'date')\n",
    "\n",
    "#rename column \n",
    "combine_city.rename(columns={'precipition_x':'seattle_precipitation','precipition_y':'vancouver_precipitation'})\n",
    "\n",
    "combine_city.head(5)\n",
    "\n"
   ]
  },
  {
   "cell_type": "code",
   "execution_count": 393,
   "id": "07cd1a7f",
   "metadata": {},
   "outputs": [],
   "source": [
    "# Ensure that the data frame is in a tidy, or long, format.\n",
    "\n",
    "tidy_df = combine_city.melt(id_vars='date', \n",
    "                            value_vars=['seattle_precipitation', 'vancouver_precipitation'],\n",
    "                            var_name='city', \n",
    "                            value_name='precipitation')\n",
    "\n",
    "# Clean up city names\n",
    "tidy_df['city'] = tidy_df['city'].replace({\n",
    "    'seattle_precipitation': 'Seattle',\n",
    "    'vancouver_precipitation': 'Vancouver'\n",
    "})\n"
   ]
  },
  {
   "cell_type": "markdown",
   "id": "4c4e790b",
   "metadata": {},
   "source": [
    "* Count rainy days per month"
   ]
  },
  {
   "cell_type": "code",
   "execution_count": 394,
   "id": "871494e6",
   "metadata": {},
   "outputs": [
    {
     "data": {
      "image/png": "[encoded data removed]",
      "text/plain": [
       "<Figure size 1200x600 with 1 Axes>"
      ]
     },
     "metadata": {},
     "output_type": "display_data"
    }
   ],
   "source": [
    "tidy_df['is_rain'] = tidy_df['precipitation'].apply(lambda x: 1 if x > 0 else 0)\n",
    "\n",
    "tidy_df['month'] = tidy_df['date'].dt.to_period('M')  # create month column\n",
    "monthly_rain = tidy_df.groupby(['city', 'month'])['precipitation'].sum().reset_index()\n",
    "monthly_rain.rename(columns={'precipitation':'monthly_total'}, inplace=True)\n",
    "\n",
    "\n",
    "monthly_rain.head(12)\n",
    "\n",
    "plt.figure(figsize=(12,6))\n",
    "sns.barplot(data=monthly_rain, x='month', y='monthly_total', hue='city')\n",
    "\n",
    "plt.xticks(rotation=45)\n",
    "plt.title('Number of Rainy Days per Month: Seattle vs Vancouver')\n",
    "plt.xlabel('Month')\n",
    "plt.ylabel('Number of Rainy Days')\n",
    "plt.legend(title='City')\n",
    "plt.show()\n"
   ]
  },
  {
   "cell_type": "markdown",
   "id": "bb48353c",
   "metadata": {},
   "source": [
    "* Vancouver generally has more rainy days than Seattle, especially in the late fall and winter (October–March).\n",
    "\n",
    "* Seattle’s highest rainy month is December 2022, while Vancouver peaks in October 2021."
   ]
  },
  {
   "cell_type": "markdown",
   "id": "9afaff22",
   "metadata": {},
   "source": [
    "Using lineplot to compare by month"
   ]
  },
  {
   "cell_type": "code",
   "execution_count": 395,
   "id": "6ea98161",
   "metadata": {},
   "outputs": [
    {
     "data": {
      "image/png": "[encoded data removed]",
      "text/plain": [
       "<Figure size 1200x600 with 1 Axes>"
      ]
     },
     "metadata": {},
     "output_type": "display_data"
    }
   ],
   "source": [
    "#Create new column month\n",
    "tidy_df['date'] = pd.to_datetime(tidy_df['date'])\n",
    "\n",
    "tidy_df['month'] = tidy_df['date'].dt.to_period('M')\n",
    "\n",
    "# Group by city, month and calculate total rainfall\n",
    "monthly_rainfall = tidy_df.groupby(['city', 'month'])['precipitation'].sum().reset_index()\n",
    "\n",
    "monthly_rainfall['month'] = monthly_rainfall['month'].astype(str)\n",
    "\n",
    "\n",
    "monthly_rainfall.head(6)\n",
    "\n",
    "plt.figure(figsize=(12,6))\n",
    "sns.lineplot(data=monthly_rainfall, x='month', y='precipitation', hue='city')\n",
    "\n",
    "plt.title('Monthly Rainfall: Seattle vs Vancouver (2018-2022)')\n",
    "plt.xlabel('Month')\n",
    "plt.ylabel('Total Precipitation (inches)')\n",
    "plt.xticks(rotation=90)\n",
    "plt.show()"
   ]
  },
  {
   "cell_type": "markdown",
   "id": "24c0866a",
   "metadata": {},
   "source": [
    "* Largest difference: October 2021 showed the biggest gap, with Vancouver much wetter than Seattle.\n",
    "\n",
    "* Both cities have peaks in late fall/winter (Oct–Feb) and lows in summer (Jun–Aug)."
   ]
  },
  {
   "cell_type": "markdown",
   "id": "c78b9acf",
   "metadata": {},
   "source": [
    "Using barplot to analysis data compare by years"
   ]
  },
  {
   "cell_type": "code",
   "execution_count": 396,
   "id": "0f59a9c8",
   "metadata": {},
   "outputs": [
    {
     "data": {
      "image/png": "[encoded data removed]",
      "text/plain": [
       "<Figure size 640x480 with 1 Axes>"
      ]
     },
     "metadata": {},
     "output_type": "display_data"
    }
   ],
   "source": [
    "#Create new column years\n",
    "tidy_df['years'] = tidy_df['date'].dt.year\n",
    "\n",
    "# Group by month and calculate total rainfall\n",
    "monthly_rainfall = tidy_df.groupby(['city','years'])[['precipitation']].sum().reset_index()\n",
    "\n",
    "monthly_rainfall['years'] = monthly_rainfall['years'].astype(str)\n",
    "\n",
    "sns.barplot(data=tidy_df,x='years', y='precipitation', hue='city')\n",
    "\n",
    "plt.title('Monthly Rainfall: Seattle vs Vancouver (2018-2022)')\n",
    "plt.xlabel('Month')\n",
    "plt.ylabel('Total Precipitation (inches)')\n",
    "plt.show()"
   ]
  },
  {
   "cell_type": "markdown",
   "id": "dc55aa36",
   "metadata": {},
   "source": [
    "* Over 5 years Vancouver has the highest rain and Vancouver typically adds 10-15 inches more rain than seattle each year.\n",
    "* Both cities saw a sharp increase from 2019 to 2020."
   ]
  },
  {
   "cell_type": "markdown",
   "id": "74a0fde3",
   "metadata": {},
   "source": []
  }
 ],
 "metadata": {
  "kernelspec": {
   "display_name": "base",
   "language": "python",
   "name": "python3"
  },
  "language_info": {
   "codemirror_mode": {
    "name": "ipython",
    "version": 3
   },
   "file_extension": ".py",
   "mimetype": "text/x-python",
   "name": "python",
   "nbconvert_exporter": "python",
   "pygments_lexer": "ipython3",
   "version": "3.13.5"
  }
 },
 "nbformat": 4,
 "nbformat_minor": 5
}
